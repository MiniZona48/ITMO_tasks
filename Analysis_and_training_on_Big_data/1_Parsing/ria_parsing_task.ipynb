{
  "cells": [
    {
      "cell_type": "markdown",
      "metadata": {
        "id": "L_2Vw-KDXPz8"
      },
      "source": [
        "# Сбор данных с сайта РИА Новости\n"
      ]
    },
    {
      "cell_type": "markdown",
      "metadata": {
        "id": "HKobA31maNy9"
      },
      "source": [
        "Установим и импортируем необходимые библиотеки."
      ]
    },
    {
      "cell_type": "code",
      "execution_count": 1,
      "metadata": {
        "id": "4OpzfTAm9tKW"
      },
      "outputs": [],
      "source": [
        "%%capture\n",
        "!pip install selenium"
      ]
    },
    {
      "cell_type": "code",
      "execution_count": 2,
      "metadata": {
        "id": "sLvaFNoGXPz-"
      },
      "outputs": [],
      "source": [
        "import re\n",
        "import time\n",
        "import datetime\n",
        "import pandas as pd\n",
        "import warnings\n",
        "from tqdm import tqdm\n",
        "from bs4 import BeautifulSoup\n",
        "from selenium import webdriver\n",
        "from dataclasses import dataclass\n",
        "\n",
        "warnings.filterwarnings(\"ignore\", category=FutureWarning)"
      ]
    },
    {
      "cell_type": "markdown",
      "metadata": {
        "id": "eyVielmCqvYz"
      },
      "source": [
        "Далее зададим необходимые константы.\n",
        "\n",
        "`DEPTH` - число страниц для скрапинга"
      ]
    },
    {
      "cell_type": "code",
      "execution_count": 3,
      "metadata": {
        "id": "Et9aXr_AXPz_"
      },
      "outputs": [],
      "source": [
        "SLEEP = 2\n",
        "DEPTH = 20\n",
        "BASE_URL = \"https://ria.ru/\"\n",
        "TOPICS = [\"economy\", \"society\", \"incidents\", \"science\", \"culture\"]"
      ]
    },
    {
      "cell_type": "code",
      "execution_count": 4,
      "metadata": {
        "id": "12FLG9pcXPz_"
      },
      "outputs": [],
      "source": [
        "@dataclass\n",
        "class Article:\n",
        "    id: str = None\n",
        "    url: str = None\n",
        "    title: str = None\n",
        "    subtitle: str = None\n",
        "    content: str = None\n",
        "    datetime: str = None"
      ]
    },
    {
      "cell_type": "code",
      "execution_count": 5,
      "metadata": {
        "id": "WkccHzEPXPz_"
      },
      "outputs": [],
      "source": [
        "# set webdriver params\n",
        "chrome_options = webdriver.ChromeOptions()\n",
        "chrome_options.add_argument(\"--blink-settings=imagesEnabled=false\")\n",
        "chrome_options.add_argument(\"headless\")\n",
        "chrome_options.add_argument(\"no-sandbox\")\n",
        "chrome_options.add_argument(\"disable-dev-shm-usage\")\n",
        "driver = webdriver.Chrome(options=chrome_options)"
      ]
    },
    {
      "cell_type": "markdown",
      "metadata": {
        "id": "9BMldxbBZphZ"
      },
      "source": [
        "Посмотрим на функцию для скачивания страниц."
      ]
    },
    {
      "cell_type": "code",
      "execution_count": 6,
      "metadata": {
        "id": "97RgMNehXPz_"
      },
      "outputs": [],
      "source": [
        "def get_pages():\n",
        "\n",
        "    \"\"\"Load and scroll pages\"\"\"\n",
        "\n",
        "    items, topics_order = [], []\n",
        "\n",
        "    for topic in tqdm(TOPICS):\n",
        "        try:\n",
        "            old_size = len(items)\n",
        "            URL = BASE_URL + topic\n",
        "            driver.get(URL)\n",
        "            time.sleep(SLEEP)\n",
        "\n",
        "            # push to list 20 next articles\n",
        "            driver.execute_script(\n",
        "                \"document.getElementsByClassName('list-more')[0].click()\"\n",
        "            )\n",
        "            time.sleep(1)\n",
        "\n",
        "            # scroll page to automatically load more articles\n",
        "            for i in tqdm(range(DEPTH), leave=False):\n",
        "                try:\n",
        "                    driver.execute_script(\n",
        "                        f\"window.scrollTo(0, document.body.scrollHeight - 1200)\"\n",
        "                    )\n",
        "                    time.sleep(1)\n",
        "                except:\n",
        "                    pass\n",
        "\n",
        "            # find all pages\n",
        "            html = driver.page_source\n",
        "            soup = BeautifulSoup(html, \"html.parser\")\n",
        "            scope = soup.find(\n",
        "                \"div\", {\"class\": \"list\", \"itemtype\": \"http://schema.org/ItemList\"}\n",
        "            )\n",
        "            items += scope.find_all(\"div\", {\"class\": \"list-item\"})\n",
        "\n",
        "            # number of pages can not be multiple of deepth*20\n",
        "            # that's why we count topics_order dynamically\n",
        "            new_size = len(items)\n",
        "            if new_size > old_size:\n",
        "                topics_order.extend([topic] * (new_size - old_size))\n",
        "        except:\n",
        "            pass\n",
        "\n",
        "    return items, topics_order"
      ]
    },
    {
      "cell_type": "markdown",
      "metadata": {
        "id": "29TbDDVZZyMt"
      },
      "source": [
        "Посмотрим на функцию для парсинга скачанных страниц."
      ]
    },
    {
      "cell_type": "code",
      "execution_count": 7,
      "metadata": {
        "id": "sV-n6jw9XP0A"
      },
      "outputs": [],
      "source": [
        "def parse_page(page):\n",
        "    \"\"\"Extract from page desired fields\"\"\"\n",
        "\n",
        "    # Create article data class object\n",
        "    article = Article()\n",
        "\n",
        "    # article url\n",
        "    article.url = page.find(\"a\", {\"class\": \"list-item__image\"})[\"href\"]\n",
        "\n",
        "    # article id\n",
        "    s = re.findall(r\"\\d+.html\", article.url)[0]\n",
        "    article.id = s[: s.find(\".\")]\n",
        "\n",
        "    # load page\n",
        "    driver.get(article.url)\n",
        "    time.sleep(SLEEP)\n",
        "    html = driver.page_source\n",
        "\n",
        "    # article source\n",
        "    source = article.url[8 : article.url.find(\".\")]\n",
        "\n",
        "    # article object\n",
        "    soup = BeautifulSoup(html, \"html.parser\")\n",
        "    obj = soup.find(\n",
        "        \"div\",\n",
        "        {\n",
        "            \"class\": lambda x: x and (x.find(f\"article m-article m-{source}\") > -1),\n",
        "            \"data-article-id\": article.id,\n",
        "        },\n",
        "    )\n",
        "\n",
        "    if not obj:\n",
        "        obj = soup.find(\n",
        "            \"div\",\n",
        "            {\n",
        "                \"class\": lambda x: x and (x.find(f\"article m-video m-{source}\") > -1),\n",
        "                \"data-article-id\": article.id,\n",
        "            },\n",
        "        )\n",
        "\n",
        "    # process article title\n",
        "    title = obj.find(\"div\", {\"class\": \"article__title\"})\n",
        "    title_2 = obj.find(\"h1\", {\"class\": \"article__title\"})\n",
        "\n",
        "    if title:\n",
        "        article.title = title.text\n",
        "    else:\n",
        "        article.title = title_2.text if title_2 else \"\"\n",
        "\n",
        "    # article subtitle\n",
        "    subtitle = obj.find(\"h1\", {\"class\": \"article__second-title\"})\n",
        "    article.subtitle = subtitle.text if subtitle else \"\"\n",
        "\n",
        "    # article content\n",
        "    article.content = obj.find(\n",
        "        \"div\", {\"class\": \"article__body js-mediator-article mia-analytics\"}\n",
        "    ).text\n",
        "\n",
        "    # article datetime\n",
        "    article.datetime = obj.find(\"div\", {\"class\": \"article__info-date\"}).find(\"a\").text\n",
        "\n",
        "    # article number of views\n",
        "    # article.views = int(obj.find('span', {'class': 'statistic__item m-views'}).text)\n",
        "\n",
        "    return article"
      ]
    },
    {
      "cell_type": "markdown",
      "metadata": {
        "id": "HX8gnfu1Z2F7"
      },
      "source": [
        "Скачаем новости (количество регулируется константой DEPTH выше)."
      ]
    },
    {
      "cell_type": "code",
      "execution_count": 8,
      "metadata": {
        "collapsed": true,
        "id": "fRINr7HSXP0A",
        "jupyter": {
          "outputs_hidden": true
        },
        "tags": []
      },
      "outputs": [
        {
          "name": "stderr",
          "output_type": "stream",
          "text": [
            "100%|██████████| 5/5 [02:06<00:00, 25.24s/it]\n"
          ]
        }
      ],
      "source": [
        "# get pages and topics\n",
        "pages, topics_order = get_pages()"
      ]
    },
    {
      "cell_type": "markdown",
      "metadata": {
        "id": "uY5KK61CaU1H"
      },
      "source": [
        "Сохраним результат в файл."
      ]
    },
    {
      "cell_type": "code",
      "execution_count": 9,
      "metadata": {
        "id": "WQp5JS2vMF3e"
      },
      "outputs": [],
      "source": [
        "with open(\"ria_pages.txt\", \"w\", encoding=\"utf-8\") as f:\n",
        "    for page in pages:\n",
        "        f.write(\"%s\\n\" % page)"
      ]
    },
    {
      "cell_type": "markdown",
      "metadata": {
        "id": "1aa9QR9yqEUu"
      },
      "source": [
        "## Вопрос 1\n",
        "\n",
        "Сколько страниц `pages` мы спарсили?"
      ]
    },
    {
      "cell_type": "code",
      "execution_count": 10,
      "metadata": {
        "id": "s_VA_yIEHpTg"
      },
      "outputs": [
        {
          "data": {
            "text/plain": [
              "1848"
            ]
          },
          "execution_count": 10,
          "metadata": {},
          "output_type": "execute_result"
        }
      ],
      "source": [
        "len(pages)"
      ]
    },
    {
      "cell_type": "markdown",
      "metadata": {
        "id": "boJAYgYtqKc2"
      },
      "source": [
        "Распарсим каждую страницу и достанем из нее необходимые атрибуты:\n",
        "\n",
        "* в цикле примените функцию `parse_page` к каждой странице и сохраните результат в объект `res`\n",
        "\n",
        "* затем добавьте `res` в список `data`\n",
        "\n",
        "\n",
        "Для скорости распарсим только первые 100 страниц."
      ]
    },
    {
      "cell_type": "code",
      "execution_count": 11,
      "metadata": {
        "id": "M42AfMsIXP0A",
        "scrolled": true,
        "tags": []
      },
      "outputs": [
        {
          "name": "stderr",
          "output_type": "stream",
          "text": [
            "100%|██████████| 100/100 [05:07<00:00,  3.07s/it]\n"
          ]
        }
      ],
      "source": [
        "data, topics_order_fixed = [], []\n",
        "\n",
        "for num, page in enumerate(tqdm(pages[:100])):\n",
        "    try:\n",
        "        res = parse_page(page)\n",
        "        data.append(res)\n",
        "\n",
        "        topics_order_fixed.append(topics_order[num])\n",
        "    except:\n",
        "        pass\n",
        "\n",
        "driver.close()"
      ]
    },
    {
      "cell_type": "markdown",
      "metadata": {
        "id": "6VO2FvmuYogv"
      },
      "source": [
        "Преобразуем в датафрейм полученные данные."
      ]
    },
    {
      "cell_type": "markdown",
      "metadata": {
        "id": "nZ6p6d2wYxUA"
      },
      "source": [
        "## Вопрос 2\n",
        "\n",
        "Сколько столбцов в таблице `df`?"
      ]
    },
    {
      "cell_type": "code",
      "execution_count": 13,
      "metadata": {
        "id": "58a2LzszXP0A",
        "tags": []
      },
      "outputs": [
        {
          "data": {
            "text/html": [
              "<div>\n",
              "<style scoped>\n",
              "    .dataframe tbody tr th:only-of-type {\n",
              "        vertical-align: middle;\n",
              "    }\n",
              "\n",
              "    .dataframe tbody tr th {\n",
              "        vertical-align: top;\n",
              "    }\n",
              "\n",
              "    .dataframe thead th {\n",
              "        text-align: right;\n",
              "    }\n",
              "</style>\n",
              "<table border=\"1\" class=\"dataframe\">\n",
              "  <thead>\n",
              "    <tr style=\"text-align: right;\">\n",
              "      <th></th>\n",
              "      <th>id</th>\n",
              "      <th>url</th>\n",
              "      <th>title</th>\n",
              "      <th>subtitle</th>\n",
              "      <th>content</th>\n",
              "      <th>datetime</th>\n",
              "    </tr>\n",
              "  </thead>\n",
              "  <tbody>\n",
              "    <tr>\n",
              "      <th>0</th>\n",
              "      <td>1921570252</td>\n",
              "      <td>https://ria.ru/20240116/pivo-1921570252.html</td>\n",
              "      <td>В ГД оценили идею запрета ввоза импортного пива</td>\n",
              "      <td>В ГД назвали идею запрета ввоза импортного пив...</td>\n",
              "      <td>МОСКВА, 16 янв – РИА Новости. Депутат Госдумы ...</td>\n",
              "      <td>11:17 16.01.2024</td>\n",
              "    </tr>\n",
              "    <tr>\n",
              "      <th>1</th>\n",
              "      <td>1921562909</td>\n",
              "      <td>https://ria.ru/20240116/pivo-1921562909.html</td>\n",
              "      <td>В Госдуме предложили запретить ввоз пива из не...</td>\n",
              "      <td>\"Известия\": в РФ хотят запретить поставки пива...</td>\n",
              "      <td>МОСКВА, 16 янв – РИА Новости. Глава комитета Г...</td>\n",
              "      <td>10:40 16.01.2024</td>\n",
              "    </tr>\n",
              "    <tr>\n",
              "      <th>2</th>\n",
              "      <td>1921490766</td>\n",
              "      <td>https://ria.ru/20240116/neft-1921490766.html</td>\n",
              "      <td>Голод не тетка: CША накупили российской нефти ...</td>\n",
              "      <td>США возобновили импорт нефти из России после п...</td>\n",
              "      <td>МОСКВА, 16 янв — РИА Новости, Наталья Дембинск...</td>\n",
              "      <td>08:00 16.01.2024</td>\n",
              "    </tr>\n",
              "    <tr>\n",
              "      <th>3</th>\n",
              "      <td>1921539497</td>\n",
              "      <td>https://ria.ru/20240116/bortprovodniki-1921539...</td>\n",
              "      <td>\"Аэрофлот\" и \"Победа\" готовы принять на работу...</td>\n",
              "      <td>\"Аэрофлот\" и \"Победа\" готовы принять на работу...</td>\n",
              "      <td>МОСКВА, 16 янв - РИА Новости. Крупнейшая росси...</td>\n",
              "      <td>07:24 16.01.2024</td>\n",
              "    </tr>\n",
              "    <tr>\n",
              "      <th>4</th>\n",
              "      <td>1921529559</td>\n",
              "      <td>https://ria.ru/20240116/platina-1921529559.html</td>\n",
              "      <td>Германия сократила закупки платины у России до...</td>\n",
              "      <td>ФРГ в ноябре сократила закупки платины у Росси...</td>\n",
              "      <td>МОСКВА, 16 янв - РИА Новости. Германия к концу...</td>\n",
              "      <td>03:05 16.01.2024</td>\n",
              "    </tr>\n",
              "    <tr>\n",
              "      <th>...</th>\n",
              "      <td>...</td>\n",
              "      <td>...</td>\n",
              "      <td>...</td>\n",
              "      <td>...</td>\n",
              "      <td>...</td>\n",
              "      <td>...</td>\n",
              "    </tr>\n",
              "    <tr>\n",
              "      <th>94</th>\n",
              "      <td>1920886637</td>\n",
              "      <td>https://ria.ru/20240112/minpromtorg-1920886637...</td>\n",
              "      <td>Минпромторг разработал проект эксперимента по ...</td>\n",
              "      <td>Минпромторг: в России предложили маркировать р...</td>\n",
              "      <td>МОСКВА, 12 янв - РИА Новости. Минпромторг Росс...</td>\n",
              "      <td>11:23 12.01.2024</td>\n",
              "    </tr>\n",
              "    <tr>\n",
              "      <th>95</th>\n",
              "      <td>1920878136</td>\n",
              "      <td>https://ria.ru/20240112/moldaviya-1920878136.html</td>\n",
              "      <td>Додон заявил, что власти Молдавии все равно по...</td>\n",
              "      <td>Додон: власти Молдавии покупают тот же российс...</td>\n",
              "      <td>КИШИНЕВ, 12 янв – РИА Новости. Экс-президент М...</td>\n",
              "      <td>10:56 12.01.2024</td>\n",
              "    </tr>\n",
              "    <tr>\n",
              "      <th>96</th>\n",
              "      <td>1920866381</td>\n",
              "      <td>https://ria.ru/20240112/evro-1920866381.html</td>\n",
              "      <td>Курс евро на Московской бирже опустился ниже 9...</td>\n",
              "      <td>Курс евро на Московской бирже опустился ниже 9...</td>\n",
              "      <td>МОСКВА, 12 янв — РИА Новости. Российская валют...</td>\n",
              "      <td>10:05 12.01.2024</td>\n",
              "    </tr>\n",
              "    <tr>\n",
              "      <th>97</th>\n",
              "      <td>1920862656</td>\n",
              "      <td>https://ria.ru/20240112/zerno-1920862656.html</td>\n",
              "      <td>В России не планируют отменять экспортные пошл...</td>\n",
              "      <td>Абрамченко: власти не планируют отменять экспо...</td>\n",
              "      <td>МОСКВА, 12 янв - РИА Новости. Власти РФ не пла...</td>\n",
              "      <td>09:35 12.01.2024</td>\n",
              "    </tr>\n",
              "    <tr>\n",
              "      <th>98</th>\n",
              "      <td>1920855822</td>\n",
              "      <td>https://ria.ru/20240112/eksport-1920855822.html</td>\n",
              "      <td>Россия за год увеличила выручку от экспорта пр...</td>\n",
              "      <td>Россия в 2023 году увеличила выручку от экспор...</td>\n",
              "      <td>МОСКВА, 12 янв - РИА Новости. Объем экспорта а...</td>\n",
              "      <td>08:43 12.01.2024</td>\n",
              "    </tr>\n",
              "  </tbody>\n",
              "</table>\n",
              "<p>99 rows × 6 columns</p>\n",
              "</div>"
            ],
            "text/plain": [
              "            id                                                url  \\\n",
              "0   1921570252       https://ria.ru/20240116/pivo-1921570252.html   \n",
              "1   1921562909       https://ria.ru/20240116/pivo-1921562909.html   \n",
              "2   1921490766       https://ria.ru/20240116/neft-1921490766.html   \n",
              "3   1921539497  https://ria.ru/20240116/bortprovodniki-1921539...   \n",
              "4   1921529559    https://ria.ru/20240116/platina-1921529559.html   \n",
              "..         ...                                                ...   \n",
              "94  1920886637  https://ria.ru/20240112/minpromtorg-1920886637...   \n",
              "95  1920878136  https://ria.ru/20240112/moldaviya-1920878136.html   \n",
              "96  1920866381       https://ria.ru/20240112/evro-1920866381.html   \n",
              "97  1920862656      https://ria.ru/20240112/zerno-1920862656.html   \n",
              "98  1920855822    https://ria.ru/20240112/eksport-1920855822.html   \n",
              "\n",
              "                                                title  \\\n",
              "0     В ГД оценили идею запрета ввоза импортного пива   \n",
              "1   В Госдуме предложили запретить ввоз пива из не...   \n",
              "2   Голод не тетка: CША накупили российской нефти ...   \n",
              "3   \"Аэрофлот\" и \"Победа\" готовы принять на работу...   \n",
              "4   Германия сократила закупки платины у России до...   \n",
              "..                                                ...   \n",
              "94  Минпромторг разработал проект эксперимента по ...   \n",
              "95  Додон заявил, что власти Молдавии все равно по...   \n",
              "96  Курс евро на Московской бирже опустился ниже 9...   \n",
              "97  В России не планируют отменять экспортные пошл...   \n",
              "98  Россия за год увеличила выручку от экспорта пр...   \n",
              "\n",
              "                                             subtitle  \\\n",
              "0   В ГД назвали идею запрета ввоза импортного пив...   \n",
              "1   \"Известия\": в РФ хотят запретить поставки пива...   \n",
              "2   США возобновили импорт нефти из России после п...   \n",
              "3   \"Аэрофлот\" и \"Победа\" готовы принять на работу...   \n",
              "4   ФРГ в ноябре сократила закупки платины у Росси...   \n",
              "..                                                ...   \n",
              "94  Минпромторг: в России предложили маркировать р...   \n",
              "95  Додон: власти Молдавии покупают тот же российс...   \n",
              "96  Курс евро на Московской бирже опустился ниже 9...   \n",
              "97  Абрамченко: власти не планируют отменять экспо...   \n",
              "98  Россия в 2023 году увеличила выручку от экспор...   \n",
              "\n",
              "                                              content          datetime  \n",
              "0   МОСКВА, 16 янв – РИА Новости. Депутат Госдумы ...  11:17 16.01.2024  \n",
              "1   МОСКВА, 16 янв – РИА Новости. Глава комитета Г...  10:40 16.01.2024  \n",
              "2   МОСКВА, 16 янв — РИА Новости, Наталья Дембинск...  08:00 16.01.2024  \n",
              "3   МОСКВА, 16 янв - РИА Новости. Крупнейшая росси...  07:24 16.01.2024  \n",
              "4   МОСКВА, 16 янв - РИА Новости. Германия к концу...  03:05 16.01.2024  \n",
              "..                                                ...               ...  \n",
              "94  МОСКВА, 12 янв - РИА Новости. Минпромторг Росс...  11:23 12.01.2024  \n",
              "95  КИШИНЕВ, 12 янв – РИА Новости. Экс-президент М...  10:56 12.01.2024  \n",
              "96  МОСКВА, 12 янв — РИА Новости. Российская валют...  10:05 12.01.2024  \n",
              "97  МОСКВА, 12 янв - РИА Новости. Власти РФ не пла...  09:35 12.01.2024  \n",
              "98  МОСКВА, 12 янв - РИА Новости. Объем экспорта а...  08:43 12.01.2024  \n",
              "\n",
              "[99 rows x 6 columns]"
            ]
          },
          "execution_count": 13,
          "metadata": {},
          "output_type": "execute_result"
        }
      ],
      "source": [
        "df = pd.DataFrame(data=data)\n",
        "df"
      ]
    },
    {
      "cell_type": "markdown",
      "metadata": {
        "id": "spWPjAJhY3bL"
      },
      "source": [
        "Добавьте в таблицу `df` столбец `topic`, содержащий список `topics_order_fixed`"
      ]
    },
    {
      "cell_type": "code",
      "execution_count": 14,
      "metadata": {
        "id": "6LAnU5PyY1B2"
      },
      "outputs": [
        {
          "data": {
            "text/html": [
              "<div>\n",
              "<style scoped>\n",
              "    .dataframe tbody tr th:only-of-type {\n",
              "        vertical-align: middle;\n",
              "    }\n",
              "\n",
              "    .dataframe tbody tr th {\n",
              "        vertical-align: top;\n",
              "    }\n",
              "\n",
              "    .dataframe thead th {\n",
              "        text-align: right;\n",
              "    }\n",
              "</style>\n",
              "<table border=\"1\" class=\"dataframe\">\n",
              "  <thead>\n",
              "    <tr style=\"text-align: right;\">\n",
              "      <th></th>\n",
              "      <th>id</th>\n",
              "      <th>url</th>\n",
              "      <th>title</th>\n",
              "      <th>subtitle</th>\n",
              "      <th>content</th>\n",
              "      <th>datetime</th>\n",
              "      <th>topic</th>\n",
              "    </tr>\n",
              "  </thead>\n",
              "  <tbody>\n",
              "    <tr>\n",
              "      <th>0</th>\n",
              "      <td>1921570252</td>\n",
              "      <td>https://ria.ru/20240116/pivo-1921570252.html</td>\n",
              "      <td>В ГД оценили идею запрета ввоза импортного пива</td>\n",
              "      <td>В ГД назвали идею запрета ввоза импортного пив...</td>\n",
              "      <td>МОСКВА, 16 янв – РИА Новости. Депутат Госдумы ...</td>\n",
              "      <td>11:17 16.01.2024</td>\n",
              "      <td>economy</td>\n",
              "    </tr>\n",
              "    <tr>\n",
              "      <th>1</th>\n",
              "      <td>1921562909</td>\n",
              "      <td>https://ria.ru/20240116/pivo-1921562909.html</td>\n",
              "      <td>В Госдуме предложили запретить ввоз пива из не...</td>\n",
              "      <td>\"Известия\": в РФ хотят запретить поставки пива...</td>\n",
              "      <td>МОСКВА, 16 янв – РИА Новости. Глава комитета Г...</td>\n",
              "      <td>10:40 16.01.2024</td>\n",
              "      <td>economy</td>\n",
              "    </tr>\n",
              "    <tr>\n",
              "      <th>2</th>\n",
              "      <td>1921490766</td>\n",
              "      <td>https://ria.ru/20240116/neft-1921490766.html</td>\n",
              "      <td>Голод не тетка: CША накупили российской нефти ...</td>\n",
              "      <td>США возобновили импорт нефти из России после п...</td>\n",
              "      <td>МОСКВА, 16 янв — РИА Новости, Наталья Дембинск...</td>\n",
              "      <td>08:00 16.01.2024</td>\n",
              "      <td>economy</td>\n",
              "    </tr>\n",
              "    <tr>\n",
              "      <th>3</th>\n",
              "      <td>1921539497</td>\n",
              "      <td>https://ria.ru/20240116/bortprovodniki-1921539...</td>\n",
              "      <td>\"Аэрофлот\" и \"Победа\" готовы принять на работу...</td>\n",
              "      <td>\"Аэрофлот\" и \"Победа\" готовы принять на работу...</td>\n",
              "      <td>МОСКВА, 16 янв - РИА Новости. Крупнейшая росси...</td>\n",
              "      <td>07:24 16.01.2024</td>\n",
              "      <td>economy</td>\n",
              "    </tr>\n",
              "    <tr>\n",
              "      <th>4</th>\n",
              "      <td>1921529559</td>\n",
              "      <td>https://ria.ru/20240116/platina-1921529559.html</td>\n",
              "      <td>Германия сократила закупки платины у России до...</td>\n",
              "      <td>ФРГ в ноябре сократила закупки платины у Росси...</td>\n",
              "      <td>МОСКВА, 16 янв - РИА Новости. Германия к концу...</td>\n",
              "      <td>03:05 16.01.2024</td>\n",
              "      <td>economy</td>\n",
              "    </tr>\n",
              "    <tr>\n",
              "      <th>...</th>\n",
              "      <td>...</td>\n",
              "      <td>...</td>\n",
              "      <td>...</td>\n",
              "      <td>...</td>\n",
              "      <td>...</td>\n",
              "      <td>...</td>\n",
              "      <td>...</td>\n",
              "    </tr>\n",
              "    <tr>\n",
              "      <th>94</th>\n",
              "      <td>1920886637</td>\n",
              "      <td>https://ria.ru/20240112/minpromtorg-1920886637...</td>\n",
              "      <td>Минпромторг разработал проект эксперимента по ...</td>\n",
              "      <td>Минпромторг: в России предложили маркировать р...</td>\n",
              "      <td>МОСКВА, 12 янв - РИА Новости. Минпромторг Росс...</td>\n",
              "      <td>11:23 12.01.2024</td>\n",
              "      <td>economy</td>\n",
              "    </tr>\n",
              "    <tr>\n",
              "      <th>95</th>\n",
              "      <td>1920878136</td>\n",
              "      <td>https://ria.ru/20240112/moldaviya-1920878136.html</td>\n",
              "      <td>Додон заявил, что власти Молдавии все равно по...</td>\n",
              "      <td>Додон: власти Молдавии покупают тот же российс...</td>\n",
              "      <td>КИШИНЕВ, 12 янв – РИА Новости. Экс-президент М...</td>\n",
              "      <td>10:56 12.01.2024</td>\n",
              "      <td>economy</td>\n",
              "    </tr>\n",
              "    <tr>\n",
              "      <th>96</th>\n",
              "      <td>1920866381</td>\n",
              "      <td>https://ria.ru/20240112/evro-1920866381.html</td>\n",
              "      <td>Курс евро на Московской бирже опустился ниже 9...</td>\n",
              "      <td>Курс евро на Московской бирже опустился ниже 9...</td>\n",
              "      <td>МОСКВА, 12 янв — РИА Новости. Российская валют...</td>\n",
              "      <td>10:05 12.01.2024</td>\n",
              "      <td>economy</td>\n",
              "    </tr>\n",
              "    <tr>\n",
              "      <th>97</th>\n",
              "      <td>1920862656</td>\n",
              "      <td>https://ria.ru/20240112/zerno-1920862656.html</td>\n",
              "      <td>В России не планируют отменять экспортные пошл...</td>\n",
              "      <td>Абрамченко: власти не планируют отменять экспо...</td>\n",
              "      <td>МОСКВА, 12 янв - РИА Новости. Власти РФ не пла...</td>\n",
              "      <td>09:35 12.01.2024</td>\n",
              "      <td>economy</td>\n",
              "    </tr>\n",
              "    <tr>\n",
              "      <th>98</th>\n",
              "      <td>1920855822</td>\n",
              "      <td>https://ria.ru/20240112/eksport-1920855822.html</td>\n",
              "      <td>Россия за год увеличила выручку от экспорта пр...</td>\n",
              "      <td>Россия в 2023 году увеличила выручку от экспор...</td>\n",
              "      <td>МОСКВА, 12 янв - РИА Новости. Объем экспорта а...</td>\n",
              "      <td>08:43 12.01.2024</td>\n",
              "      <td>economy</td>\n",
              "    </tr>\n",
              "  </tbody>\n",
              "</table>\n",
              "<p>99 rows × 7 columns</p>\n",
              "</div>"
            ],
            "text/plain": [
              "            id                                                url  \\\n",
              "0   1921570252       https://ria.ru/20240116/pivo-1921570252.html   \n",
              "1   1921562909       https://ria.ru/20240116/pivo-1921562909.html   \n",
              "2   1921490766       https://ria.ru/20240116/neft-1921490766.html   \n",
              "3   1921539497  https://ria.ru/20240116/bortprovodniki-1921539...   \n",
              "4   1921529559    https://ria.ru/20240116/platina-1921529559.html   \n",
              "..         ...                                                ...   \n",
              "94  1920886637  https://ria.ru/20240112/minpromtorg-1920886637...   \n",
              "95  1920878136  https://ria.ru/20240112/moldaviya-1920878136.html   \n",
              "96  1920866381       https://ria.ru/20240112/evro-1920866381.html   \n",
              "97  1920862656      https://ria.ru/20240112/zerno-1920862656.html   \n",
              "98  1920855822    https://ria.ru/20240112/eksport-1920855822.html   \n",
              "\n",
              "                                                title  \\\n",
              "0     В ГД оценили идею запрета ввоза импортного пива   \n",
              "1   В Госдуме предложили запретить ввоз пива из не...   \n",
              "2   Голод не тетка: CША накупили российской нефти ...   \n",
              "3   \"Аэрофлот\" и \"Победа\" готовы принять на работу...   \n",
              "4   Германия сократила закупки платины у России до...   \n",
              "..                                                ...   \n",
              "94  Минпромторг разработал проект эксперимента по ...   \n",
              "95  Додон заявил, что власти Молдавии все равно по...   \n",
              "96  Курс евро на Московской бирже опустился ниже 9...   \n",
              "97  В России не планируют отменять экспортные пошл...   \n",
              "98  Россия за год увеличила выручку от экспорта пр...   \n",
              "\n",
              "                                             subtitle  \\\n",
              "0   В ГД назвали идею запрета ввоза импортного пив...   \n",
              "1   \"Известия\": в РФ хотят запретить поставки пива...   \n",
              "2   США возобновили импорт нефти из России после п...   \n",
              "3   \"Аэрофлот\" и \"Победа\" готовы принять на работу...   \n",
              "4   ФРГ в ноябре сократила закупки платины у Росси...   \n",
              "..                                                ...   \n",
              "94  Минпромторг: в России предложили маркировать р...   \n",
              "95  Додон: власти Молдавии покупают тот же российс...   \n",
              "96  Курс евро на Московской бирже опустился ниже 9...   \n",
              "97  Абрамченко: власти не планируют отменять экспо...   \n",
              "98  Россия в 2023 году увеличила выручку от экспор...   \n",
              "\n",
              "                                              content          datetime  \\\n",
              "0   МОСКВА, 16 янв – РИА Новости. Депутат Госдумы ...  11:17 16.01.2024   \n",
              "1   МОСКВА, 16 янв – РИА Новости. Глава комитета Г...  10:40 16.01.2024   \n",
              "2   МОСКВА, 16 янв — РИА Новости, Наталья Дембинск...  08:00 16.01.2024   \n",
              "3   МОСКВА, 16 янв - РИА Новости. Крупнейшая росси...  07:24 16.01.2024   \n",
              "4   МОСКВА, 16 янв - РИА Новости. Германия к концу...  03:05 16.01.2024   \n",
              "..                                                ...               ...   \n",
              "94  МОСКВА, 12 янв - РИА Новости. Минпромторг Росс...  11:23 12.01.2024   \n",
              "95  КИШИНЕВ, 12 янв – РИА Новости. Экс-президент М...  10:56 12.01.2024   \n",
              "96  МОСКВА, 12 янв — РИА Новости. Российская валют...  10:05 12.01.2024   \n",
              "97  МОСКВА, 12 янв - РИА Новости. Власти РФ не пла...  09:35 12.01.2024   \n",
              "98  МОСКВА, 12 янв - РИА Новости. Объем экспорта а...  08:43 12.01.2024   \n",
              "\n",
              "      topic  \n",
              "0   economy  \n",
              "1   economy  \n",
              "2   economy  \n",
              "3   economy  \n",
              "4   economy  \n",
              "..      ...  \n",
              "94  economy  \n",
              "95  economy  \n",
              "96  economy  \n",
              "97  economy  \n",
              "98  economy  \n",
              "\n",
              "[99 rows x 7 columns]"
            ]
          },
          "execution_count": 14,
          "metadata": {},
          "output_type": "execute_result"
        }
      ],
      "source": [
        "df[\"topic\"] = topics_order_fixed\n",
        "df"
      ]
    },
    {
      "cell_type": "markdown",
      "metadata": {
        "id": "BWahmdaOZCXs"
      },
      "source": [
        "## Вопрос 3\n",
        "\n",
        "Какой `topic` имеет новость из первой строки таблицы?"
      ]
    },
    {
      "cell_type": "code",
      "execution_count": 15,
      "metadata": {
        "id": "3rqKwLaMZLyt"
      },
      "outputs": [
        {
          "data": {
            "text/plain": [
              "id                                                 1921570252\n",
              "url              https://ria.ru/20240116/pivo-1921570252.html\n",
              "title         В ГД оценили идею запрета ввоза импортного пива\n",
              "subtitle    В ГД назвали идею запрета ввоза импортного пив...\n",
              "content     МОСКВА, 16 янв – РИА Новости. Депутат Госдумы ...\n",
              "datetime                                     11:17 16.01.2024\n",
              "topic                                                 economy\n",
              "Name: 0, dtype: object"
            ]
          },
          "execution_count": 15,
          "metadata": {},
          "output_type": "execute_result"
        }
      ],
      "source": [
        "df.iloc[0]"
      ]
    },
    {
      "cell_type": "markdown",
      "metadata": {
        "id": "Jk7cH3W6ZMop"
      },
      "source": [
        "Сохраним скачанные данные в файл."
      ]
    },
    {
      "cell_type": "code",
      "execution_count": 16,
      "metadata": {
        "id": "MLhAMKr-pFIi"
      },
      "outputs": [],
      "source": [
        "df.to_pickle(\"df_ria.p\", compression=\"gzip\")"
      ]
    },
    {
      "cell_type": "markdown",
      "metadata": {
        "id": "_73x_cJcXVeG"
      },
      "source": [
        "## Вопрос 4\n",
        "\n",
        "Есть ли пропуски в каких-либо столбцах в таблице `df`?"
      ]
    },
    {
      "cell_type": "code",
      "execution_count": 17,
      "metadata": {
        "id": "On9a3_YbpFIy"
      },
      "outputs": [
        {
          "data": {
            "text/plain": [
              "id          0\n",
              "url         0\n",
              "title       0\n",
              "subtitle    0\n",
              "content     0\n",
              "datetime    0\n",
              "topic       0\n",
              "dtype: int64"
            ]
          },
          "execution_count": 17,
          "metadata": {},
          "output_type": "execute_result"
        }
      ],
      "source": [
        "df.isnull().sum()"
      ]
    }
  ],
  "metadata": {
    "colab": {
      "provenance": []
    },
    "interpreter": {
      "hash": "403959ecd139c89f35081fab3d0ca535dfc149adc8a1d47a6d44f830632776ba"
    },
    "kernelspec": {
      "display_name": "Python 3 (ipykernel)",
      "language": "python",
      "name": "python3"
    },
    "language_info": {
      "codemirror_mode": {
        "name": "ipython",
        "version": 3
      },
      "file_extension": ".py",
      "mimetype": "text/x-python",
      "name": "python",
      "nbconvert_exporter": "python",
      "pygments_lexer": "ipython3",
      "version": "3.11.5"
    }
  },
  "nbformat": 4,
  "nbformat_minor": 0
}
