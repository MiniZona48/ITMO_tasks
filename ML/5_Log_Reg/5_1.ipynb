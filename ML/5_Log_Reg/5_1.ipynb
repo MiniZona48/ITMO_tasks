{
  "cells": [
    {
      "cell_type": "markdown",
      "metadata": {
        "id": "S2Zv-8wrSmbU"
      },
      "source": [
        "# Применение логистической регрессии для решения задачи классификации"
      ]
    },
    {
      "cell_type": "markdown",
      "metadata": {
        "id": "Fsaq3T7JS9Ox"
      },
      "source": [
        "# Описание набора данных"
      ]
    },
    {
      "cell_type": "markdown",
      "metadata": {
        "id": "ekwIM8kmTAx5"
      },
      "source": [
        "Данный набор содержит информацию о пассажирах корабля «Титаник», затонувшего в ночь на 15-е апреля 1912 года. Некоторое количество пассажиров спаслось, чему способствовало множество различных факторов, включая их пол, возраст, на какой палубе находилась их кабина, социальный статус, и т.д.\n",
        "\n",
        "Набор данных состоит из различных признаков, описывающих информацию о пассажирах. Каждая строка таблицы — отдельный пассажир, вся информация о нем содержится в его строке.\n",
        "\n",
        "Описание датасета:\n",
        "- **Survived** (целевой признак): выжил ли пассажир (0 = Нет, 1 = Да);\n",
        "- **Pclass**: класс каюты (1 = 1st, 2 = 2nd, 3 = 3rd);\n",
        "- **Sex**: пол (female или male)\n",
        "- **Age**: возраст в годах\n",
        "- **SibSp**: количество братьев, сестёр (в том числе сводных) и супругов на борту\n",
        "- **Parch**: количество детей и родителей на борту\n",
        "- **Ticket**: номер билета\n",
        "- **Fare**: стоимость проезда пассажира\n",
        "- **Cabin**: номер каюты\n",
        "- **Embarked**: порт посадки пассажира (C = Cherbourg, Q = Queenstown, S = Southampton).\n",
        "\n",
        "Необходимо решить задачу классификации и научиться предсказывать целовой признак **Survived** — выживет ли пассажир — по соответсвующим ему нецелевым признакам.\n"
      ]
    },
    {
      "cell_type": "markdown",
      "metadata": {
        "id": "SjI-Ub1GYbKX"
      },
      "source": [
        "# Подготовка и первичный анализ данных"
      ]
    },
    {
      "cell_type": "code",
      "execution_count": 38,
      "metadata": {
        "id": "a_MzT3cKTuR9"
      },
      "outputs": [],
      "source": [
        "import numpy as np\n",
        "import pandas as pd\n",
        "import matplotlib.pyplot as plt\n",
        "import seaborn as sns\n",
        "from sklearn.linear_model import LogisticRegression\n",
        "from sklearn.metrics import f1_score\n",
        "from sklearn.metrics import classification_report"
      ]
    },
    {
      "cell_type": "markdown",
      "metadata": {
        "id": "KY4ZYwUuUNwx"
      },
      "source": [
        "Установите количество пропущенных значений поля <code>age</code>:"
      ]
    },
    {
      "cell_type": "code",
      "execution_count": 39,
      "metadata": {
        "colab": {
          "base_uri": "https://localhost:8080/",
          "height": 424
        },
        "id": "Ii5ITpGJUShn",
        "outputId": "a496ff63-7409-4242-87e0-70dc642724e7"
      },
      "outputs": [
        {
          "data": {
            "text/html": [
              "\n",
              "  <div id=\"df-8d919925-c6ad-423c-91ba-53c74457c7ff\" class=\"colab-df-container\">\n",
              "    <div>\n",
              "<style scoped>\n",
              "    .dataframe tbody tr th:only-of-type {\n",
              "        vertical-align: middle;\n",
              "    }\n",
              "\n",
              "    .dataframe tbody tr th {\n",
              "        vertical-align: top;\n",
              "    }\n",
              "\n",
              "    .dataframe thead th {\n",
              "        text-align: right;\n",
              "    }\n",
              "</style>\n",
              "<table border=\"1\" class=\"dataframe\">\n",
              "  <thead>\n",
              "    <tr style=\"text-align: right;\">\n",
              "      <th></th>\n",
              "      <th>pclass</th>\n",
              "      <th>survived</th>\n",
              "      <th>name</th>\n",
              "      <th>sex</th>\n",
              "      <th>age</th>\n",
              "      <th>sibsp</th>\n",
              "      <th>parch</th>\n",
              "      <th>ticket</th>\n",
              "      <th>fare</th>\n",
              "      <th>cabin</th>\n",
              "      <th>embarked</th>\n",
              "      <th>home.dest</th>\n",
              "    </tr>\n",
              "  </thead>\n",
              "  <tbody>\n",
              "    <tr>\n",
              "      <th>0</th>\n",
              "      <td>3</td>\n",
              "      <td>1</td>\n",
              "      <td>Smyth, Miss. Julia</td>\n",
              "      <td>female</td>\n",
              "      <td>NaN</td>\n",
              "      <td>0</td>\n",
              "      <td>0</td>\n",
              "      <td>335432</td>\n",
              "      <td>7.7333</td>\n",
              "      <td>NaN</td>\n",
              "      <td>Q</td>\n",
              "      <td>NaN</td>\n",
              "    </tr>\n",
              "    <tr>\n",
              "      <th>1</th>\n",
              "      <td>3</td>\n",
              "      <td>1</td>\n",
              "      <td>Glynn, Miss. Mary Agatha</td>\n",
              "      <td>female</td>\n",
              "      <td>NaN</td>\n",
              "      <td>0</td>\n",
              "      <td>0</td>\n",
              "      <td>335677</td>\n",
              "      <td>7.7500</td>\n",
              "      <td>NaN</td>\n",
              "      <td>Q</td>\n",
              "      <td>Co Clare, Ireland Washington, DC</td>\n",
              "    </tr>\n",
              "    <tr>\n",
              "      <th>2</th>\n",
              "      <td>3</td>\n",
              "      <td>1</td>\n",
              "      <td>Whabee, Mrs. George Joseph (Shawneene Abi-Saab)</td>\n",
              "      <td>female</td>\n",
              "      <td>38.0</td>\n",
              "      <td>0</td>\n",
              "      <td>0</td>\n",
              "      <td>2688</td>\n",
              "      <td>7.2292</td>\n",
              "      <td>NaN</td>\n",
              "      <td>C</td>\n",
              "      <td>NaN</td>\n",
              "    </tr>\n",
              "    <tr>\n",
              "      <th>3</th>\n",
              "      <td>3</td>\n",
              "      <td>0</td>\n",
              "      <td>Vovk, Mr. Janko</td>\n",
              "      <td>male</td>\n",
              "      <td>22.0</td>\n",
              "      <td>0</td>\n",
              "      <td>0</td>\n",
              "      <td>349252</td>\n",
              "      <td>7.8958</td>\n",
              "      <td>NaN</td>\n",
              "      <td>S</td>\n",
              "      <td>NaN</td>\n",
              "    </tr>\n",
              "    <tr>\n",
              "      <th>4</th>\n",
              "      <td>3</td>\n",
              "      <td>0</td>\n",
              "      <td>de Pelsmaeker, Mr. Alfons</td>\n",
              "      <td>male</td>\n",
              "      <td>16.0</td>\n",
              "      <td>0</td>\n",
              "      <td>0</td>\n",
              "      <td>345778</td>\n",
              "      <td>9.5000</td>\n",
              "      <td>NaN</td>\n",
              "      <td>S</td>\n",
              "      <td>NaN</td>\n",
              "    </tr>\n",
              "    <tr>\n",
              "      <th>...</th>\n",
              "      <td>...</td>\n",
              "      <td>...</td>\n",
              "      <td>...</td>\n",
              "      <td>...</td>\n",
              "      <td>...</td>\n",
              "      <td>...</td>\n",
              "      <td>...</td>\n",
              "      <td>...</td>\n",
              "      <td>...</td>\n",
              "      <td>...</td>\n",
              "      <td>...</td>\n",
              "      <td>...</td>\n",
              "    </tr>\n",
              "    <tr>\n",
              "      <th>976</th>\n",
              "      <td>3</td>\n",
              "      <td>1</td>\n",
              "      <td>Howard, Miss. May Elizabeth</td>\n",
              "      <td>female</td>\n",
              "      <td>NaN</td>\n",
              "      <td>0</td>\n",
              "      <td>0</td>\n",
              "      <td>A. 2. 39186</td>\n",
              "      <td>8.0500</td>\n",
              "      <td>NaN</td>\n",
              "      <td>S</td>\n",
              "      <td>NaN</td>\n",
              "    </tr>\n",
              "    <tr>\n",
              "      <th>977</th>\n",
              "      <td>3</td>\n",
              "      <td>1</td>\n",
              "      <td>Dorking, Mr. Edward Arthur</td>\n",
              "      <td>male</td>\n",
              "      <td>19.0</td>\n",
              "      <td>0</td>\n",
              "      <td>0</td>\n",
              "      <td>A/5. 10482</td>\n",
              "      <td>8.0500</td>\n",
              "      <td>NaN</td>\n",
              "      <td>S</td>\n",
              "      <td>England Oglesby, IL</td>\n",
              "    </tr>\n",
              "    <tr>\n",
              "      <th>978</th>\n",
              "      <td>2</td>\n",
              "      <td>0</td>\n",
              "      <td>Gillespie, Mr. William Henry</td>\n",
              "      <td>male</td>\n",
              "      <td>34.0</td>\n",
              "      <td>0</td>\n",
              "      <td>0</td>\n",
              "      <td>12233</td>\n",
              "      <td>13.0000</td>\n",
              "      <td>NaN</td>\n",
              "      <td>S</td>\n",
              "      <td>Vancouver, BC</td>\n",
              "    </tr>\n",
              "    <tr>\n",
              "      <th>979</th>\n",
              "      <td>3</td>\n",
              "      <td>0</td>\n",
              "      <td>Barton, Mr. David John</td>\n",
              "      <td>male</td>\n",
              "      <td>22.0</td>\n",
              "      <td>0</td>\n",
              "      <td>0</td>\n",
              "      <td>324669</td>\n",
              "      <td>8.0500</td>\n",
              "      <td>NaN</td>\n",
              "      <td>S</td>\n",
              "      <td>England New York, NY</td>\n",
              "    </tr>\n",
              "    <tr>\n",
              "      <th>980</th>\n",
              "      <td>1</td>\n",
              "      <td>0</td>\n",
              "      <td>Allison, Miss. Helen Loraine</td>\n",
              "      <td>female</td>\n",
              "      <td>2.0</td>\n",
              "      <td>1</td>\n",
              "      <td>2</td>\n",
              "      <td>113781</td>\n",
              "      <td>151.5500</td>\n",
              "      <td>C22 C26</td>\n",
              "      <td>S</td>\n",
              "      <td>Montreal, PQ / Chesterville, ON</td>\n",
              "    </tr>\n",
              "  </tbody>\n",
              "</table>\n",
              "<p>981 rows × 12 columns</p>\n",
              "</div>\n",
              "    <div class=\"colab-df-buttons\">\n",
              "\n",
              "  <div class=\"colab-df-container\">\n",
              "    <button class=\"colab-df-convert\" onclick=\"convertToInteractive('df-8d919925-c6ad-423c-91ba-53c74457c7ff')\"\n",
              "            title=\"Convert this dataframe to an interactive table.\"\n",
              "            style=\"display:none;\">\n",
              "\n",
              "  <svg xmlns=\"http://www.w3.org/2000/svg\" height=\"24px\" viewBox=\"0 -960 960 960\">\n",
              "    <path d=\"M120-120v-720h720v720H120Zm60-500h600v-160H180v160Zm220 220h160v-160H400v160Zm0 220h160v-160H400v160ZM180-400h160v-160H180v160Zm440 0h160v-160H620v160ZM180-180h160v-160H180v160Zm440 0h160v-160H620v160Z\"/>\n",
              "  </svg>\n",
              "    </button>\n",
              "\n",
              "  <style>\n",
              "    .colab-df-container {\n",
              "      display:flex;\n",
              "      gap: 12px;\n",
              "    }\n",
              "\n",
              "    .colab-df-convert {\n",
              "      background-color: #E8F0FE;\n",
              "      border: none;\n",
              "      border-radius: 50%;\n",
              "      cursor: pointer;\n",
              "      display: none;\n",
              "      fill: #1967D2;\n",
              "      height: 32px;\n",
              "      padding: 0 0 0 0;\n",
              "      width: 32px;\n",
              "    }\n",
              "\n",
              "    .colab-df-convert:hover {\n",
              "      background-color: #E2EBFA;\n",
              "      box-shadow: 0px 1px 2px rgba(60, 64, 67, 0.3), 0px 1px 3px 1px rgba(60, 64, 67, 0.15);\n",
              "      fill: #174EA6;\n",
              "    }\n",
              "\n",
              "    .colab-df-buttons div {\n",
              "      margin-bottom: 4px;\n",
              "    }\n",
              "\n",
              "    [theme=dark] .colab-df-convert {\n",
              "      background-color: #3B4455;\n",
              "      fill: #D2E3FC;\n",
              "    }\n",
              "\n",
              "    [theme=dark] .colab-df-convert:hover {\n",
              "      background-color: #434B5C;\n",
              "      box-shadow: 0px 1px 3px 1px rgba(0, 0, 0, 0.15);\n",
              "      filter: drop-shadow(0px 1px 2px rgba(0, 0, 0, 0.3));\n",
              "      fill: #FFFFFF;\n",
              "    }\n",
              "  </style>\n",
              "\n",
              "    <script>\n",
              "      const buttonEl =\n",
              "        document.querySelector('#df-8d919925-c6ad-423c-91ba-53c74457c7ff button.colab-df-convert');\n",
              "      buttonEl.style.display =\n",
              "        google.colab.kernel.accessAllowed ? 'block' : 'none';\n",
              "\n",
              "      async function convertToInteractive(key) {\n",
              "        const element = document.querySelector('#df-8d919925-c6ad-423c-91ba-53c74457c7ff');\n",
              "        const dataTable =\n",
              "          await google.colab.kernel.invokeFunction('convertToInteractive',\n",
              "                                                    [key], {});\n",
              "        if (!dataTable) return;\n",
              "\n",
              "        const docLinkHtml = 'Like what you see? Visit the ' +\n",
              "          '<a target=\"_blank\" href=https://colab.research.google.com/notebooks/data_table.ipynb>data table notebook</a>'\n",
              "          + ' to learn more about interactive tables.';\n",
              "        element.innerHTML = '';\n",
              "        dataTable['output_type'] = 'display_data';\n",
              "        await google.colab.output.renderOutput(dataTable, element);\n",
              "        const docLink = document.createElement('div');\n",
              "        docLink.innerHTML = docLinkHtml;\n",
              "        element.appendChild(docLink);\n",
              "      }\n",
              "    </script>\n",
              "  </div>\n",
              "\n",
              "\n",
              "<div id=\"df-493bf57b-4b44-4a28-a7ab-8730779e997b\">\n",
              "  <button class=\"colab-df-quickchart\" onclick=\"quickchart('df-493bf57b-4b44-4a28-a7ab-8730779e997b')\"\n",
              "            title=\"Suggest charts\"\n",
              "            style=\"display:none;\">\n",
              "\n",
              "<svg xmlns=\"http://www.w3.org/2000/svg\" height=\"24px\"viewBox=\"0 0 24 24\"\n",
              "     width=\"24px\">\n",
              "    <g>\n",
              "        <path d=\"M19 3H5c-1.1 0-2 .9-2 2v14c0 1.1.9 2 2 2h14c1.1 0 2-.9 2-2V5c0-1.1-.9-2-2-2zM9 17H7v-7h2v7zm4 0h-2V7h2v10zm4 0h-2v-4h2v4z\"/>\n",
              "    </g>\n",
              "</svg>\n",
              "  </button>\n",
              "\n",
              "<style>\n",
              "  .colab-df-quickchart {\n",
              "      --bg-color: #E8F0FE;\n",
              "      --fill-color: #1967D2;\n",
              "      --hover-bg-color: #E2EBFA;\n",
              "      --hover-fill-color: #174EA6;\n",
              "      --disabled-fill-color: #AAA;\n",
              "      --disabled-bg-color: #DDD;\n",
              "  }\n",
              "\n",
              "  [theme=dark] .colab-df-quickchart {\n",
              "      --bg-color: #3B4455;\n",
              "      --fill-color: #D2E3FC;\n",
              "      --hover-bg-color: #434B5C;\n",
              "      --hover-fill-color: #FFFFFF;\n",
              "      --disabled-bg-color: #3B4455;\n",
              "      --disabled-fill-color: #666;\n",
              "  }\n",
              "\n",
              "  .colab-df-quickchart {\n",
              "    background-color: var(--bg-color);\n",
              "    border: none;\n",
              "    border-radius: 50%;\n",
              "    cursor: pointer;\n",
              "    display: none;\n",
              "    fill: var(--fill-color);\n",
              "    height: 32px;\n",
              "    padding: 0;\n",
              "    width: 32px;\n",
              "  }\n",
              "\n",
              "  .colab-df-quickchart:hover {\n",
              "    background-color: var(--hover-bg-color);\n",
              "    box-shadow: 0 1px 2px rgba(60, 64, 67, 0.3), 0 1px 3px 1px rgba(60, 64, 67, 0.15);\n",
              "    fill: var(--button-hover-fill-color);\n",
              "  }\n",
              "\n",
              "  .colab-df-quickchart-complete:disabled,\n",
              "  .colab-df-quickchart-complete:disabled:hover {\n",
              "    background-color: var(--disabled-bg-color);\n",
              "    fill: var(--disabled-fill-color);\n",
              "    box-shadow: none;\n",
              "  }\n",
              "\n",
              "  .colab-df-spinner {\n",
              "    border: 2px solid var(--fill-color);\n",
              "    border-color: transparent;\n",
              "    border-bottom-color: var(--fill-color);\n",
              "    animation:\n",
              "      spin 1s steps(1) infinite;\n",
              "  }\n",
              "\n",
              "  @keyframes spin {\n",
              "    0% {\n",
              "      border-color: transparent;\n",
              "      border-bottom-color: var(--fill-color);\n",
              "      border-left-color: var(--fill-color);\n",
              "    }\n",
              "    20% {\n",
              "      border-color: transparent;\n",
              "      border-left-color: var(--fill-color);\n",
              "      border-top-color: var(--fill-color);\n",
              "    }\n",
              "    30% {\n",
              "      border-color: transparent;\n",
              "      border-left-color: var(--fill-color);\n",
              "      border-top-color: var(--fill-color);\n",
              "      border-right-color: var(--fill-color);\n",
              "    }\n",
              "    40% {\n",
              "      border-color: transparent;\n",
              "      border-right-color: var(--fill-color);\n",
              "      border-top-color: var(--fill-color);\n",
              "    }\n",
              "    60% {\n",
              "      border-color: transparent;\n",
              "      border-right-color: var(--fill-color);\n",
              "    }\n",
              "    80% {\n",
              "      border-color: transparent;\n",
              "      border-right-color: var(--fill-color);\n",
              "      border-bottom-color: var(--fill-color);\n",
              "    }\n",
              "    90% {\n",
              "      border-color: transparent;\n",
              "      border-bottom-color: var(--fill-color);\n",
              "    }\n",
              "  }\n",
              "</style>\n",
              "\n",
              "  <script>\n",
              "    async function quickchart(key) {\n",
              "      const quickchartButtonEl =\n",
              "        document.querySelector('#' + key + ' button');\n",
              "      quickchartButtonEl.disabled = true;  // To prevent multiple clicks.\n",
              "      quickchartButtonEl.classList.add('colab-df-spinner');\n",
              "      try {\n",
              "        const charts = await google.colab.kernel.invokeFunction(\n",
              "            'suggestCharts', [key], {});\n",
              "      } catch (error) {\n",
              "        console.error('Error during call to suggestCharts:', error);\n",
              "      }\n",
              "      quickchartButtonEl.classList.remove('colab-df-spinner');\n",
              "      quickchartButtonEl.classList.add('colab-df-quickchart-complete');\n",
              "    }\n",
              "    (() => {\n",
              "      let quickchartButtonEl =\n",
              "        document.querySelector('#df-493bf57b-4b44-4a28-a7ab-8730779e997b button');\n",
              "      quickchartButtonEl.style.display =\n",
              "        google.colab.kernel.accessAllowed ? 'block' : 'none';\n",
              "    })();\n",
              "  </script>\n",
              "</div>\n",
              "    </div>\n",
              "  </div>\n"
            ],
            "text/plain": [
              "     pclass  survived                                             name  \\\n",
              "0         3         1                               Smyth, Miss. Julia   \n",
              "1         3         1                         Glynn, Miss. Mary Agatha   \n",
              "2         3         1  Whabee, Mrs. George Joseph (Shawneene Abi-Saab)   \n",
              "3         3         0                                  Vovk, Mr. Janko   \n",
              "4         3         0                        de Pelsmaeker, Mr. Alfons   \n",
              "..      ...       ...                                              ...   \n",
              "976       3         1                      Howard, Miss. May Elizabeth   \n",
              "977       3         1                       Dorking, Mr. Edward Arthur   \n",
              "978       2         0                     Gillespie, Mr. William Henry   \n",
              "979       3         0                           Barton, Mr. David John   \n",
              "980       1         0                     Allison, Miss. Helen Loraine   \n",
              "\n",
              "        sex   age  sibsp  parch       ticket      fare    cabin embarked  \\\n",
              "0    female   NaN      0      0       335432    7.7333      NaN        Q   \n",
              "1    female   NaN      0      0       335677    7.7500      NaN        Q   \n",
              "2    female  38.0      0      0         2688    7.2292      NaN        C   \n",
              "3      male  22.0      0      0       349252    7.8958      NaN        S   \n",
              "4      male  16.0      0      0       345778    9.5000      NaN        S   \n",
              "..      ...   ...    ...    ...          ...       ...      ...      ...   \n",
              "976  female   NaN      0      0  A. 2. 39186    8.0500      NaN        S   \n",
              "977    male  19.0      0      0   A/5. 10482    8.0500      NaN        S   \n",
              "978    male  34.0      0      0        12233   13.0000      NaN        S   \n",
              "979    male  22.0      0      0       324669    8.0500      NaN        S   \n",
              "980  female   2.0      1      2       113781  151.5500  C22 C26        S   \n",
              "\n",
              "                            home.dest  \n",
              "0                                 NaN  \n",
              "1    Co Clare, Ireland Washington, DC  \n",
              "2                                 NaN  \n",
              "3                                 NaN  \n",
              "4                                 NaN  \n",
              "..                                ...  \n",
              "976                               NaN  \n",
              "977               England Oglesby, IL  \n",
              "978                     Vancouver, BC  \n",
              "979              England New York, NY  \n",
              "980   Montreal, PQ / Chesterville, ON  \n",
              "\n",
              "[981 rows x 12 columns]"
            ]
          },
          "execution_count": 39,
          "metadata": {},
          "output_type": "execute_result"
        }
      ],
      "source": [
        "df = pd.read_csv('Data/titanic_train.csv')\n",
        "df"
      ]
    },
    {
      "cell_type": "code",
      "execution_count": 40,
      "metadata": {
        "colab": {
          "base_uri": "https://localhost:8080/"
        },
        "id": "ZkiY_i_-DO2V",
        "outputId": "316cb36f-301f-4329-e12f-bf07caab4094"
      },
      "outputs": [
        {
          "name": "stdout",
          "output_type": "stream",
          "text": [
            "pclass         0\n",
            "survived       0\n",
            "name           0\n",
            "sex            0\n",
            "age          199\n",
            "sibsp          0\n",
            "parch          0\n",
            "ticket         0\n",
            "fare           0\n",
            "cabin        769\n",
            "embarked       0\n",
            "home.dest    414\n",
            "dtype: int64\n",
            "Число пропущенных щначений поля age:  199\n"
          ]
        }
      ],
      "source": [
        "print(df.isnull().sum())\n",
        "print('Число пропущенных щначений поля age: ', df.isnull().sum()['age'])"
      ]
    },
    {
      "cell_type": "markdown",
      "metadata": {
        "id": "gOqnpfJkU6Ll"
      },
      "source": [
        "Определите долю выживших"
      ]
    },
    {
      "cell_type": "code",
      "execution_count": 41,
      "metadata": {
        "colab": {
          "base_uri": "https://localhost:8080/"
        },
        "id": "dHdTN-odVAIb",
        "outputId": "2a7950c7-c742-4794-a1c3-73b9deb27047"
      },
      "outputs": [
        {
          "data": {
            "text/plain": [
              "0.382262996941896"
            ]
          },
          "execution_count": 41,
          "metadata": {},
          "output_type": "execute_result"
        }
      ],
      "source": [
        "df['survived'].mean()"
      ]
    },
    {
      "cell_type": "markdown",
      "metadata": {
        "id": "MJS0wozuVoWt"
      },
      "source": [
        "Определите долю пропущенных значений в рамках каждого признака и избавьтесь от тех признаков, где доля пропусков больше трети. Также удалите колонку <code>ticket</code>, вряд ли эта информация будет полезной."
      ]
    },
    {
      "cell_type": "code",
      "execution_count": 42,
      "metadata": {
        "colab": {
          "base_uri": "https://localhost:8080/",
          "height": 338
        },
        "id": "43ptqUREVz-t",
        "outputId": "8e4c2c4a-27e2-4fc3-ee1b-c8a116ddb637"
      },
      "outputs": [
        {
          "name": "stdout",
          "output_type": "stream",
          "text": [
            "pclass       0.000000\n",
            "survived     0.000000\n",
            "name         0.000000\n",
            "sex          0.000000\n",
            "age          0.202854\n",
            "sibsp        0.000000\n",
            "parch        0.000000\n",
            "ticket       0.000000\n",
            "fare         0.000000\n",
            "cabin        0.783894\n",
            "embarked     0.000000\n",
            "home.dest    0.422018\n",
            "dtype: float64\n"
          ]
        },
        {
          "data": {
            "text/html": [
              "\n",
              "  <div id=\"df-a5b15359-fcce-4d2c-987c-c445aca97691\" class=\"colab-df-container\">\n",
              "    <div>\n",
              "<style scoped>\n",
              "    .dataframe tbody tr th:only-of-type {\n",
              "        vertical-align: middle;\n",
              "    }\n",
              "\n",
              "    .dataframe tbody tr th {\n",
              "        vertical-align: top;\n",
              "    }\n",
              "\n",
              "    .dataframe thead th {\n",
              "        text-align: right;\n",
              "    }\n",
              "</style>\n",
              "<table border=\"1\" class=\"dataframe\">\n",
              "  <thead>\n",
              "    <tr style=\"text-align: right;\">\n",
              "      <th></th>\n",
              "      <th>pclass</th>\n",
              "      <th>survived</th>\n",
              "      <th>name</th>\n",
              "      <th>sex</th>\n",
              "      <th>age</th>\n",
              "      <th>sibsp</th>\n",
              "      <th>parch</th>\n",
              "      <th>fare</th>\n",
              "      <th>embarked</th>\n",
              "    </tr>\n",
              "  </thead>\n",
              "  <tbody>\n",
              "    <tr>\n",
              "      <th>0</th>\n",
              "      <td>3</td>\n",
              "      <td>1</td>\n",
              "      <td>Smyth, Miss. Julia</td>\n",
              "      <td>female</td>\n",
              "      <td>NaN</td>\n",
              "      <td>0</td>\n",
              "      <td>0</td>\n",
              "      <td>7.7333</td>\n",
              "      <td>Q</td>\n",
              "    </tr>\n",
              "    <tr>\n",
              "      <th>1</th>\n",
              "      <td>3</td>\n",
              "      <td>1</td>\n",
              "      <td>Glynn, Miss. Mary Agatha</td>\n",
              "      <td>female</td>\n",
              "      <td>NaN</td>\n",
              "      <td>0</td>\n",
              "      <td>0</td>\n",
              "      <td>7.7500</td>\n",
              "      <td>Q</td>\n",
              "    </tr>\n",
              "  </tbody>\n",
              "</table>\n",
              "</div>\n",
              "    <div class=\"colab-df-buttons\">\n",
              "\n",
              "  <div class=\"colab-df-container\">\n",
              "    <button class=\"colab-df-convert\" onclick=\"convertToInteractive('df-a5b15359-fcce-4d2c-987c-c445aca97691')\"\n",
              "            title=\"Convert this dataframe to an interactive table.\"\n",
              "            style=\"display:none;\">\n",
              "\n",
              "  <svg xmlns=\"http://www.w3.org/2000/svg\" height=\"24px\" viewBox=\"0 -960 960 960\">\n",
              "    <path d=\"M120-120v-720h720v720H120Zm60-500h600v-160H180v160Zm220 220h160v-160H400v160Zm0 220h160v-160H400v160ZM180-400h160v-160H180v160Zm440 0h160v-160H620v160ZM180-180h160v-160H180v160Zm440 0h160v-160H620v160Z\"/>\n",
              "  </svg>\n",
              "    </button>\n",
              "\n",
              "  <style>\n",
              "    .colab-df-container {\n",
              "      display:flex;\n",
              "      gap: 12px;\n",
              "    }\n",
              "\n",
              "    .colab-df-convert {\n",
              "      background-color: #E8F0FE;\n",
              "      border: none;\n",
              "      border-radius: 50%;\n",
              "      cursor: pointer;\n",
              "      display: none;\n",
              "      fill: #1967D2;\n",
              "      height: 32px;\n",
              "      padding: 0 0 0 0;\n",
              "      width: 32px;\n",
              "    }\n",
              "\n",
              "    .colab-df-convert:hover {\n",
              "      background-color: #E2EBFA;\n",
              "      box-shadow: 0px 1px 2px rgba(60, 64, 67, 0.3), 0px 1px 3px 1px rgba(60, 64, 67, 0.15);\n",
              "      fill: #174EA6;\n",
              "    }\n",
              "\n",
              "    .colab-df-buttons div {\n",
              "      margin-bottom: 4px;\n",
              "    }\n",
              "\n",
              "    [theme=dark] .colab-df-convert {\n",
              "      background-color: #3B4455;\n",
              "      fill: #D2E3FC;\n",
              "    }\n",
              "\n",
              "    [theme=dark] .colab-df-convert:hover {\n",
              "      background-color: #434B5C;\n",
              "      box-shadow: 0px 1px 3px 1px rgba(0, 0, 0, 0.15);\n",
              "      filter: drop-shadow(0px 1px 2px rgba(0, 0, 0, 0.3));\n",
              "      fill: #FFFFFF;\n",
              "    }\n",
              "  </style>\n",
              "\n",
              "    <script>\n",
              "      const buttonEl =\n",
              "        document.querySelector('#df-a5b15359-fcce-4d2c-987c-c445aca97691 button.colab-df-convert');\n",
              "      buttonEl.style.display =\n",
              "        google.colab.kernel.accessAllowed ? 'block' : 'none';\n",
              "\n",
              "      async function convertToInteractive(key) {\n",
              "        const element = document.querySelector('#df-a5b15359-fcce-4d2c-987c-c445aca97691');\n",
              "        const dataTable =\n",
              "          await google.colab.kernel.invokeFunction('convertToInteractive',\n",
              "                                                    [key], {});\n",
              "        if (!dataTable) return;\n",
              "\n",
              "        const docLinkHtml = 'Like what you see? Visit the ' +\n",
              "          '<a target=\"_blank\" href=https://colab.research.google.com/notebooks/data_table.ipynb>data table notebook</a>'\n",
              "          + ' to learn more about interactive tables.';\n",
              "        element.innerHTML = '';\n",
              "        dataTable['output_type'] = 'display_data';\n",
              "        await google.colab.output.renderOutput(dataTable, element);\n",
              "        const docLink = document.createElement('div');\n",
              "        docLink.innerHTML = docLinkHtml;\n",
              "        element.appendChild(docLink);\n",
              "      }\n",
              "    </script>\n",
              "  </div>\n",
              "\n",
              "\n",
              "<div id=\"df-90eb0f2d-cc00-451a-8a42-26f6deef4879\">\n",
              "  <button class=\"colab-df-quickchart\" onclick=\"quickchart('df-90eb0f2d-cc00-451a-8a42-26f6deef4879')\"\n",
              "            title=\"Suggest charts\"\n",
              "            style=\"display:none;\">\n",
              "\n",
              "<svg xmlns=\"http://www.w3.org/2000/svg\" height=\"24px\"viewBox=\"0 0 24 24\"\n",
              "     width=\"24px\">\n",
              "    <g>\n",
              "        <path d=\"M19 3H5c-1.1 0-2 .9-2 2v14c0 1.1.9 2 2 2h14c1.1 0 2-.9 2-2V5c0-1.1-.9-2-2-2zM9 17H7v-7h2v7zm4 0h-2V7h2v10zm4 0h-2v-4h2v4z\"/>\n",
              "    </g>\n",
              "</svg>\n",
              "  </button>\n",
              "\n",
              "<style>\n",
              "  .colab-df-quickchart {\n",
              "      --bg-color: #E8F0FE;\n",
              "      --fill-color: #1967D2;\n",
              "      --hover-bg-color: #E2EBFA;\n",
              "      --hover-fill-color: #174EA6;\n",
              "      --disabled-fill-color: #AAA;\n",
              "      --disabled-bg-color: #DDD;\n",
              "  }\n",
              "\n",
              "  [theme=dark] .colab-df-quickchart {\n",
              "      --bg-color: #3B4455;\n",
              "      --fill-color: #D2E3FC;\n",
              "      --hover-bg-color: #434B5C;\n",
              "      --hover-fill-color: #FFFFFF;\n",
              "      --disabled-bg-color: #3B4455;\n",
              "      --disabled-fill-color: #666;\n",
              "  }\n",
              "\n",
              "  .colab-df-quickchart {\n",
              "    background-color: var(--bg-color);\n",
              "    border: none;\n",
              "    border-radius: 50%;\n",
              "    cursor: pointer;\n",
              "    display: none;\n",
              "    fill: var(--fill-color);\n",
              "    height: 32px;\n",
              "    padding: 0;\n",
              "    width: 32px;\n",
              "  }\n",
              "\n",
              "  .colab-df-quickchart:hover {\n",
              "    background-color: var(--hover-bg-color);\n",
              "    box-shadow: 0 1px 2px rgba(60, 64, 67, 0.3), 0 1px 3px 1px rgba(60, 64, 67, 0.15);\n",
              "    fill: var(--button-hover-fill-color);\n",
              "  }\n",
              "\n",
              "  .colab-df-quickchart-complete:disabled,\n",
              "  .colab-df-quickchart-complete:disabled:hover {\n",
              "    background-color: var(--disabled-bg-color);\n",
              "    fill: var(--disabled-fill-color);\n",
              "    box-shadow: none;\n",
              "  }\n",
              "\n",
              "  .colab-df-spinner {\n",
              "    border: 2px solid var(--fill-color);\n",
              "    border-color: transparent;\n",
              "    border-bottom-color: var(--fill-color);\n",
              "    animation:\n",
              "      spin 1s steps(1) infinite;\n",
              "  }\n",
              "\n",
              "  @keyframes spin {\n",
              "    0% {\n",
              "      border-color: transparent;\n",
              "      border-bottom-color: var(--fill-color);\n",
              "      border-left-color: var(--fill-color);\n",
              "    }\n",
              "    20% {\n",
              "      border-color: transparent;\n",
              "      border-left-color: var(--fill-color);\n",
              "      border-top-color: var(--fill-color);\n",
              "    }\n",
              "    30% {\n",
              "      border-color: transparent;\n",
              "      border-left-color: var(--fill-color);\n",
              "      border-top-color: var(--fill-color);\n",
              "      border-right-color: var(--fill-color);\n",
              "    }\n",
              "    40% {\n",
              "      border-color: transparent;\n",
              "      border-right-color: var(--fill-color);\n",
              "      border-top-color: var(--fill-color);\n",
              "    }\n",
              "    60% {\n",
              "      border-color: transparent;\n",
              "      border-right-color: var(--fill-color);\n",
              "    }\n",
              "    80% {\n",
              "      border-color: transparent;\n",
              "      border-right-color: var(--fill-color);\n",
              "      border-bottom-color: var(--fill-color);\n",
              "    }\n",
              "    90% {\n",
              "      border-color: transparent;\n",
              "      border-bottom-color: var(--fill-color);\n",
              "    }\n",
              "  }\n",
              "</style>\n",
              "\n",
              "  <script>\n",
              "    async function quickchart(key) {\n",
              "      const quickchartButtonEl =\n",
              "        document.querySelector('#' + key + ' button');\n",
              "      quickchartButtonEl.disabled = true;  // To prevent multiple clicks.\n",
              "      quickchartButtonEl.classList.add('colab-df-spinner');\n",
              "      try {\n",
              "        const charts = await google.colab.kernel.invokeFunction(\n",
              "            'suggestCharts', [key], {});\n",
              "      } catch (error) {\n",
              "        console.error('Error during call to suggestCharts:', error);\n",
              "      }\n",
              "      quickchartButtonEl.classList.remove('colab-df-spinner');\n",
              "      quickchartButtonEl.classList.add('colab-df-quickchart-complete');\n",
              "    }\n",
              "    (() => {\n",
              "      let quickchartButtonEl =\n",
              "        document.querySelector('#df-90eb0f2d-cc00-451a-8a42-26f6deef4879 button');\n",
              "      quickchartButtonEl.style.display =\n",
              "        google.colab.kernel.accessAllowed ? 'block' : 'none';\n",
              "    })();\n",
              "  </script>\n",
              "</div>\n",
              "    </div>\n",
              "  </div>\n"
            ],
            "text/plain": [
              "   pclass  survived                      name     sex  age  sibsp  parch  \\\n",
              "0       3         1        Smyth, Miss. Julia  female  NaN      0      0   \n",
              "1       3         1  Glynn, Miss. Mary Agatha  female  NaN      0      0   \n",
              "\n",
              "     fare embarked  \n",
              "0  7.7333        Q  \n",
              "1  7.7500        Q  "
            ]
          },
          "execution_count": 42,
          "metadata": {},
          "output_type": "execute_result"
        }
      ],
      "source": [
        "print(df.isnull().sum()/len(df))\n",
        "columns_to_drop = ['cabin','home.dest','ticket']\n",
        "df_droped = df.drop(columns_to_drop, axis=1)\n",
        "df_droped.head(2)"
      ]
    },
    {
      "cell_type": "markdown",
      "metadata": {
        "id": "5Porb6vGmpke"
      },
      "source": [
        "Из описания набора данных видно, что колонки <code>sibsp</code> и <code>parch</code> по сути отвечают за размер семьи. Замените эти две колонки на колонку <code>fam_size</code>, значения которой будут вычисляться как сумма соответствующих значений в колонках <code>sibsp</code> и <code>parch</code>."
      ]
    },
    {
      "cell_type": "code",
      "execution_count": 43,
      "metadata": {
        "colab": {
          "base_uri": "https://localhost:8080/",
          "height": 458
        },
        "id": "knvpyHMrm4f-",
        "outputId": "32a9036c-0f41-40f0-d4f9-2734863d481c"
      },
      "outputs": [
        {
          "name": "stdout",
          "output_type": "stream",
          "text": [
            "Финальное число признаков:  7\n",
            "Среднее колонки fam_size 0.8664627930682977\n"
          ]
        },
        {
          "data": {
            "text/html": [
              "\n",
              "  <div id=\"df-139ab86c-0500-4f44-ab3f-471f4ad36dd5\" class=\"colab-df-container\">\n",
              "    <div>\n",
              "<style scoped>\n",
              "    .dataframe tbody tr th:only-of-type {\n",
              "        vertical-align: middle;\n",
              "    }\n",
              "\n",
              "    .dataframe tbody tr th {\n",
              "        vertical-align: top;\n",
              "    }\n",
              "\n",
              "    .dataframe thead th {\n",
              "        text-align: right;\n",
              "    }\n",
              "</style>\n",
              "<table border=\"1\" class=\"dataframe\">\n",
              "  <thead>\n",
              "    <tr style=\"text-align: right;\">\n",
              "      <th></th>\n",
              "      <th>pclass</th>\n",
              "      <th>survived</th>\n",
              "      <th>name</th>\n",
              "      <th>sex</th>\n",
              "      <th>age</th>\n",
              "      <th>fare</th>\n",
              "      <th>embarked</th>\n",
              "      <th>fam_size</th>\n",
              "    </tr>\n",
              "  </thead>\n",
              "  <tbody>\n",
              "    <tr>\n",
              "      <th>0</th>\n",
              "      <td>3</td>\n",
              "      <td>1</td>\n",
              "      <td>Smyth, Miss. Julia</td>\n",
              "      <td>female</td>\n",
              "      <td>NaN</td>\n",
              "      <td>7.7333</td>\n",
              "      <td>Q</td>\n",
              "      <td>0</td>\n",
              "    </tr>\n",
              "    <tr>\n",
              "      <th>1</th>\n",
              "      <td>3</td>\n",
              "      <td>1</td>\n",
              "      <td>Glynn, Miss. Mary Agatha</td>\n",
              "      <td>female</td>\n",
              "      <td>NaN</td>\n",
              "      <td>7.7500</td>\n",
              "      <td>Q</td>\n",
              "      <td>0</td>\n",
              "    </tr>\n",
              "    <tr>\n",
              "      <th>2</th>\n",
              "      <td>3</td>\n",
              "      <td>1</td>\n",
              "      <td>Whabee, Mrs. George Joseph (Shawneene Abi-Saab)</td>\n",
              "      <td>female</td>\n",
              "      <td>38.0</td>\n",
              "      <td>7.2292</td>\n",
              "      <td>C</td>\n",
              "      <td>0</td>\n",
              "    </tr>\n",
              "    <tr>\n",
              "      <th>3</th>\n",
              "      <td>3</td>\n",
              "      <td>0</td>\n",
              "      <td>Vovk, Mr. Janko</td>\n",
              "      <td>male</td>\n",
              "      <td>22.0</td>\n",
              "      <td>7.8958</td>\n",
              "      <td>S</td>\n",
              "      <td>0</td>\n",
              "    </tr>\n",
              "    <tr>\n",
              "      <th>4</th>\n",
              "      <td>3</td>\n",
              "      <td>0</td>\n",
              "      <td>de Pelsmaeker, Mr. Alfons</td>\n",
              "      <td>male</td>\n",
              "      <td>16.0</td>\n",
              "      <td>9.5000</td>\n",
              "      <td>S</td>\n",
              "      <td>0</td>\n",
              "    </tr>\n",
              "    <tr>\n",
              "      <th>...</th>\n",
              "      <td>...</td>\n",
              "      <td>...</td>\n",
              "      <td>...</td>\n",
              "      <td>...</td>\n",
              "      <td>...</td>\n",
              "      <td>...</td>\n",
              "      <td>...</td>\n",
              "      <td>...</td>\n",
              "    </tr>\n",
              "    <tr>\n",
              "      <th>976</th>\n",
              "      <td>3</td>\n",
              "      <td>1</td>\n",
              "      <td>Howard, Miss. May Elizabeth</td>\n",
              "      <td>female</td>\n",
              "      <td>NaN</td>\n",
              "      <td>8.0500</td>\n",
              "      <td>S</td>\n",
              "      <td>0</td>\n",
              "    </tr>\n",
              "    <tr>\n",
              "      <th>977</th>\n",
              "      <td>3</td>\n",
              "      <td>1</td>\n",
              "      <td>Dorking, Mr. Edward Arthur</td>\n",
              "      <td>male</td>\n",
              "      <td>19.0</td>\n",
              "      <td>8.0500</td>\n",
              "      <td>S</td>\n",
              "      <td>0</td>\n",
              "    </tr>\n",
              "    <tr>\n",
              "      <th>978</th>\n",
              "      <td>2</td>\n",
              "      <td>0</td>\n",
              "      <td>Gillespie, Mr. William Henry</td>\n",
              "      <td>male</td>\n",
              "      <td>34.0</td>\n",
              "      <td>13.0000</td>\n",
              "      <td>S</td>\n",
              "      <td>0</td>\n",
              "    </tr>\n",
              "    <tr>\n",
              "      <th>979</th>\n",
              "      <td>3</td>\n",
              "      <td>0</td>\n",
              "      <td>Barton, Mr. David John</td>\n",
              "      <td>male</td>\n",
              "      <td>22.0</td>\n",
              "      <td>8.0500</td>\n",
              "      <td>S</td>\n",
              "      <td>0</td>\n",
              "    </tr>\n",
              "    <tr>\n",
              "      <th>980</th>\n",
              "      <td>1</td>\n",
              "      <td>0</td>\n",
              "      <td>Allison, Miss. Helen Loraine</td>\n",
              "      <td>female</td>\n",
              "      <td>2.0</td>\n",
              "      <td>151.5500</td>\n",
              "      <td>S</td>\n",
              "      <td>3</td>\n",
              "    </tr>\n",
              "  </tbody>\n",
              "</table>\n",
              "<p>981 rows × 8 columns</p>\n",
              "</div>\n",
              "    <div class=\"colab-df-buttons\">\n",
              "\n",
              "  <div class=\"colab-df-container\">\n",
              "    <button class=\"colab-df-convert\" onclick=\"convertToInteractive('df-139ab86c-0500-4f44-ab3f-471f4ad36dd5')\"\n",
              "            title=\"Convert this dataframe to an interactive table.\"\n",
              "            style=\"display:none;\">\n",
              "\n",
              "  <svg xmlns=\"http://www.w3.org/2000/svg\" height=\"24px\" viewBox=\"0 -960 960 960\">\n",
              "    <path d=\"M120-120v-720h720v720H120Zm60-500h600v-160H180v160Zm220 220h160v-160H400v160Zm0 220h160v-160H400v160ZM180-400h160v-160H180v160Zm440 0h160v-160H620v160ZM180-180h160v-160H180v160Zm440 0h160v-160H620v160Z\"/>\n",
              "  </svg>\n",
              "    </button>\n",
              "\n",
              "  <style>\n",
              "    .colab-df-container {\n",
              "      display:flex;\n",
              "      gap: 12px;\n",
              "    }\n",
              "\n",
              "    .colab-df-convert {\n",
              "      background-color: #E8F0FE;\n",
              "      border: none;\n",
              "      border-radius: 50%;\n",
              "      cursor: pointer;\n",
              "      display: none;\n",
              "      fill: #1967D2;\n",
              "      height: 32px;\n",
              "      padding: 0 0 0 0;\n",
              "      width: 32px;\n",
              "    }\n",
              "\n",
              "    .colab-df-convert:hover {\n",
              "      background-color: #E2EBFA;\n",
              "      box-shadow: 0px 1px 2px rgba(60, 64, 67, 0.3), 0px 1px 3px 1px rgba(60, 64, 67, 0.15);\n",
              "      fill: #174EA6;\n",
              "    }\n",
              "\n",
              "    .colab-df-buttons div {\n",
              "      margin-bottom: 4px;\n",
              "    }\n",
              "\n",
              "    [theme=dark] .colab-df-convert {\n",
              "      background-color: #3B4455;\n",
              "      fill: #D2E3FC;\n",
              "    }\n",
              "\n",
              "    [theme=dark] .colab-df-convert:hover {\n",
              "      background-color: #434B5C;\n",
              "      box-shadow: 0px 1px 3px 1px rgba(0, 0, 0, 0.15);\n",
              "      filter: drop-shadow(0px 1px 2px rgba(0, 0, 0, 0.3));\n",
              "      fill: #FFFFFF;\n",
              "    }\n",
              "  </style>\n",
              "\n",
              "    <script>\n",
              "      const buttonEl =\n",
              "        document.querySelector('#df-139ab86c-0500-4f44-ab3f-471f4ad36dd5 button.colab-df-convert');\n",
              "      buttonEl.style.display =\n",
              "        google.colab.kernel.accessAllowed ? 'block' : 'none';\n",
              "\n",
              "      async function convertToInteractive(key) {\n",
              "        const element = document.querySelector('#df-139ab86c-0500-4f44-ab3f-471f4ad36dd5');\n",
              "        const dataTable =\n",
              "          await google.colab.kernel.invokeFunction('convertToInteractive',\n",
              "                                                    [key], {});\n",
              "        if (!dataTable) return;\n",
              "\n",
              "        const docLinkHtml = 'Like what you see? Visit the ' +\n",
              "          '<a target=\"_blank\" href=https://colab.research.google.com/notebooks/data_table.ipynb>data table notebook</a>'\n",
              "          + ' to learn more about interactive tables.';\n",
              "        element.innerHTML = '';\n",
              "        dataTable['output_type'] = 'display_data';\n",
              "        await google.colab.output.renderOutput(dataTable, element);\n",
              "        const docLink = document.createElement('div');\n",
              "        docLink.innerHTML = docLinkHtml;\n",
              "        element.appendChild(docLink);\n",
              "      }\n",
              "    </script>\n",
              "  </div>\n",
              "\n",
              "\n",
              "<div id=\"df-1e9a8c72-4531-4819-9854-0bd98cd1eb59\">\n",
              "  <button class=\"colab-df-quickchart\" onclick=\"quickchart('df-1e9a8c72-4531-4819-9854-0bd98cd1eb59')\"\n",
              "            title=\"Suggest charts\"\n",
              "            style=\"display:none;\">\n",
              "\n",
              "<svg xmlns=\"http://www.w3.org/2000/svg\" height=\"24px\"viewBox=\"0 0 24 24\"\n",
              "     width=\"24px\">\n",
              "    <g>\n",
              "        <path d=\"M19 3H5c-1.1 0-2 .9-2 2v14c0 1.1.9 2 2 2h14c1.1 0 2-.9 2-2V5c0-1.1-.9-2-2-2zM9 17H7v-7h2v7zm4 0h-2V7h2v10zm4 0h-2v-4h2v4z\"/>\n",
              "    </g>\n",
              "</svg>\n",
              "  </button>\n",
              "\n",
              "<style>\n",
              "  .colab-df-quickchart {\n",
              "      --bg-color: #E8F0FE;\n",
              "      --fill-color: #1967D2;\n",
              "      --hover-bg-color: #E2EBFA;\n",
              "      --hover-fill-color: #174EA6;\n",
              "      --disabled-fill-color: #AAA;\n",
              "      --disabled-bg-color: #DDD;\n",
              "  }\n",
              "\n",
              "  [theme=dark] .colab-df-quickchart {\n",
              "      --bg-color: #3B4455;\n",
              "      --fill-color: #D2E3FC;\n",
              "      --hover-bg-color: #434B5C;\n",
              "      --hover-fill-color: #FFFFFF;\n",
              "      --disabled-bg-color: #3B4455;\n",
              "      --disabled-fill-color: #666;\n",
              "  }\n",
              "\n",
              "  .colab-df-quickchart {\n",
              "    background-color: var(--bg-color);\n",
              "    border: none;\n",
              "    border-radius: 50%;\n",
              "    cursor: pointer;\n",
              "    display: none;\n",
              "    fill: var(--fill-color);\n",
              "    height: 32px;\n",
              "    padding: 0;\n",
              "    width: 32px;\n",
              "  }\n",
              "\n",
              "  .colab-df-quickchart:hover {\n",
              "    background-color: var(--hover-bg-color);\n",
              "    box-shadow: 0 1px 2px rgba(60, 64, 67, 0.3), 0 1px 3px 1px rgba(60, 64, 67, 0.15);\n",
              "    fill: var(--button-hover-fill-color);\n",
              "  }\n",
              "\n",
              "  .colab-df-quickchart-complete:disabled,\n",
              "  .colab-df-quickchart-complete:disabled:hover {\n",
              "    background-color: var(--disabled-bg-color);\n",
              "    fill: var(--disabled-fill-color);\n",
              "    box-shadow: none;\n",
              "  }\n",
              "\n",
              "  .colab-df-spinner {\n",
              "    border: 2px solid var(--fill-color);\n",
              "    border-color: transparent;\n",
              "    border-bottom-color: var(--fill-color);\n",
              "    animation:\n",
              "      spin 1s steps(1) infinite;\n",
              "  }\n",
              "\n",
              "  @keyframes spin {\n",
              "    0% {\n",
              "      border-color: transparent;\n",
              "      border-bottom-color: var(--fill-color);\n",
              "      border-left-color: var(--fill-color);\n",
              "    }\n",
              "    20% {\n",
              "      border-color: transparent;\n",
              "      border-left-color: var(--fill-color);\n",
              "      border-top-color: var(--fill-color);\n",
              "    }\n",
              "    30% {\n",
              "      border-color: transparent;\n",
              "      border-left-color: var(--fill-color);\n",
              "      border-top-color: var(--fill-color);\n",
              "      border-right-color: var(--fill-color);\n",
              "    }\n",
              "    40% {\n",
              "      border-color: transparent;\n",
              "      border-right-color: var(--fill-color);\n",
              "      border-top-color: var(--fill-color);\n",
              "    }\n",
              "    60% {\n",
              "      border-color: transparent;\n",
              "      border-right-color: var(--fill-color);\n",
              "    }\n",
              "    80% {\n",
              "      border-color: transparent;\n",
              "      border-right-color: var(--fill-color);\n",
              "      border-bottom-color: var(--fill-color);\n",
              "    }\n",
              "    90% {\n",
              "      border-color: transparent;\n",
              "      border-bottom-color: var(--fill-color);\n",
              "    }\n",
              "  }\n",
              "</style>\n",
              "\n",
              "  <script>\n",
              "    async function quickchart(key) {\n",
              "      const quickchartButtonEl =\n",
              "        document.querySelector('#' + key + ' button');\n",
              "      quickchartButtonEl.disabled = true;  // To prevent multiple clicks.\n",
              "      quickchartButtonEl.classList.add('colab-df-spinner');\n",
              "      try {\n",
              "        const charts = await google.colab.kernel.invokeFunction(\n",
              "            'suggestCharts', [key], {});\n",
              "      } catch (error) {\n",
              "        console.error('Error during call to suggestCharts:', error);\n",
              "      }\n",
              "      quickchartButtonEl.classList.remove('colab-df-spinner');\n",
              "      quickchartButtonEl.classList.add('colab-df-quickchart-complete');\n",
              "    }\n",
              "    (() => {\n",
              "      let quickchartButtonEl =\n",
              "        document.querySelector('#df-1e9a8c72-4531-4819-9854-0bd98cd1eb59 button');\n",
              "      quickchartButtonEl.style.display =\n",
              "        google.colab.kernel.accessAllowed ? 'block' : 'none';\n",
              "    })();\n",
              "  </script>\n",
              "</div>\n",
              "    </div>\n",
              "  </div>\n"
            ],
            "text/plain": [
              "     pclass  survived                                             name  \\\n",
              "0         3         1                               Smyth, Miss. Julia   \n",
              "1         3         1                         Glynn, Miss. Mary Agatha   \n",
              "2         3         1  Whabee, Mrs. George Joseph (Shawneene Abi-Saab)   \n",
              "3         3         0                                  Vovk, Mr. Janko   \n",
              "4         3         0                        de Pelsmaeker, Mr. Alfons   \n",
              "..      ...       ...                                              ...   \n",
              "976       3         1                      Howard, Miss. May Elizabeth   \n",
              "977       3         1                       Dorking, Mr. Edward Arthur   \n",
              "978       2         0                     Gillespie, Mr. William Henry   \n",
              "979       3         0                           Barton, Mr. David John   \n",
              "980       1         0                     Allison, Miss. Helen Loraine   \n",
              "\n",
              "        sex   age      fare embarked  fam_size  \n",
              "0    female   NaN    7.7333        Q         0  \n",
              "1    female   NaN    7.7500        Q         0  \n",
              "2    female  38.0    7.2292        C         0  \n",
              "3      male  22.0    7.8958        S         0  \n",
              "4      male  16.0    9.5000        S         0  \n",
              "..      ...   ...       ...      ...       ...  \n",
              "976  female   NaN    8.0500        S         0  \n",
              "977    male  19.0    8.0500        S         0  \n",
              "978    male  34.0   13.0000        S         0  \n",
              "979    male  22.0    8.0500        S         0  \n",
              "980  female   2.0  151.5500        S         3  \n",
              "\n",
              "[981 rows x 8 columns]"
            ]
          },
          "execution_count": 43,
          "metadata": {},
          "output_type": "execute_result"
        }
      ],
      "source": [
        "df_droped['fam_size'] = df_droped['sibsp'] + df_droped['parch']\n",
        "df_droped = df_droped.drop(columns=['sibsp', 'parch'])\n",
        "print('Финальное число признаков: ', df_droped.shape[1]-1)\n",
        "print('Среднее колонки fam_size', df_droped['fam_size'].mean())\n",
        "df_droped"
      ]
    },
    {
      "cell_type": "markdown",
      "metadata": {
        "id": "X9Cmdl5fmyoi"
      },
      "source": [
        "Полученный датасет будем называть **исходным** (выброшенные на этом этапе признаки не нужно возвращать ни на одном из последующих этапов выполнения задания). Вычислите полученное число предикторов."
      ]
    },
    {
      "cell_type": "markdown",
      "metadata": {
        "id": "wQOvPyj8Vx00"
      },
      "source": [
        "На основе имеющейся статистики оцените вероятность выжить если пассажир -- представитель определенной категории (указана в вашем индивидуальном задании)"
      ]
    },
    {
      "cell_type": "code",
      "execution_count": 44,
      "metadata": {
        "colab": {
          "base_uri": "https://localhost:8080/"
        },
        "id": "XdpdKkEBUT52",
        "outputId": "9c081cb0-a75e-4e67-ece1-c8e221574058"
      },
      "outputs": [
        {
          "data": {
            "text/plain": [
              "{'female & pclass:1': 0.9711538461538461,\n",
              " 'male & pclass:1': 0.33088235294117646,\n",
              " 'female & pclass:2': 0.8461538461538461,\n",
              " 'male & pclass:2': 0.15503875968992248,\n",
              " 'female & pclass:3': 0.5030674846625767,\n",
              " 'male & pclass:3': 0.16442048517520216}"
            ]
          },
          "execution_count": 44,
          "metadata": {},
          "output_type": "execute_result"
        }
      ],
      "source": [
        "from itertools import product\n",
        "classes = [1, 2, 3]\n",
        "gender = ['female', 'male']\n",
        "prob_to_survive = {}\n",
        "for cl, gn in product(classes, gender):\n",
        "  prob_to_survive['{} & pclass:{}'.format(gn,cl)] = len(df[(df['pclass'] == cl) & (df['sex'] == gn) & df['survived'] == 1]) / len(df[(df['pclass'] == cl) & (df['sex'] == gn)])\n",
        "prob_to_survive"
      ]
    },
    {
      "cell_type": "markdown",
      "metadata": {
        "id": "sXxprQtFhSy4"
      },
      "source": [
        "Постройте гистограммы выжиших и невыживших по возрастам."
      ]
    },
    {
      "cell_type": "code",
      "execution_count": 45,
      "metadata": {
        "colab": {
          "base_uri": "https://localhost:8080/",
          "height": 466
        },
        "id": "K3wHT2Uzr3nb",
        "outputId": "b66e6117-613e-4cd9-b2ba-8791666967fa"
      },
      "outputs": [
        {
          "data": {
            "text/plain": [
              "<Axes: xlabel='age', ylabel='Count'>"
            ]
          },
          "execution_count": 45,
          "metadata": {},
          "output_type": "execute_result"
        },
        {
          "data": {
            "image/png": "[encoded data removed]",
            "text/plain": [
              "<Figure size 640x480 with 1 Axes>"
            ]
          },
          "metadata": {},
          "output_type": "display_data"
        }
      ],
      "source": [
        "sns.histplot(data=df_droped[df_droped['survived'] == 0], x='age', bins=20)"
      ]
    },
    {
      "cell_type": "code",
      "execution_count": 21,
      "metadata": {
        "colab": {
          "base_uri": "https://localhost:8080/",
          "height": 466
        },
        "id": "pbn-oFxvMtc0",
        "outputId": "1f4a738f-369e-41f4-846c-0551b3d91f30"
      },
      "outputs": [
        {
          "data": {
            "text/plain": [
              "<Axes: xlabel='age', ylabel='Count'>"
            ]
          },
          "execution_count": 21,
          "metadata": {},
          "output_type": "execute_result"
        },
        {
          "data": {
            "image/png": "[encoded data removed]",
            "text/plain": [
              "<Figure size 640x480 with 1 Axes>"
            ]
          },
          "metadata": {},
          "output_type": "display_data"
        }
      ],
      "source": [
        "sns.histplot(data=df_droped[df_droped['survived'] == 1], x='age', bins=15)"
      ]
    },
    {
      "cell_type": "markdown",
      "metadata": {
        "id": "u_bO7O9v0ovG"
      },
      "source": [
        "# Модель на основе числовых признаков"
      ]
    },
    {
      "cell_type": "markdown",
      "metadata": {
        "id": "VJPhFX8M38SF"
      },
      "source": [
        "## Удаление строк с пропусками"
      ]
    },
    {
      "cell_type": "markdown",
      "metadata": {
        "id": "kAO1Bd2Q0qZr"
      },
      "source": [
        "В качестве базовой модели имеет смысл построить модель с минимальными трудозатратами.\n",
        "\n",
        "Из исходного датасета удалите все категориальные признаки, а также строки, содержащие пропуски.\n",
        "\n",
        "При помощи <code>train_test_split()</code> разбейте набор данных на обучающую и тестовую выборки<b> с параметрами, указанными в вашем задании</b>. Используйте стратификацию по колонке <code>survived</code>.\n",
        "\n",
        "Обучите модель <code>LogisticRegression()</code> <b>с параметрами, указанными в вашем задании</b>, на тренировочных данных, оцените на тестовых.\n",
        "\n",
        "Вычислите <code>f1_score</code> модели на тестовых данных (рекомендуем использовать <a href=\"https://scikit-learn.org/stable/modules/generated/sklearn.metrics.f1_score.html\">соответствующую функцию</a> с параметрами по умолчанию.\n",
        "\n"
      ]
    },
    {
      "cell_type": "code",
      "execution_count": 46,
      "metadata": {
        "colab": {
          "base_uri": "https://localhost:8080/"
        },
        "id": "8JJ6qQT618Uz",
        "outputId": "e71efbed-b215-4b9f-a2a2-d0f02eacd9ef"
      },
      "outputs": [
        {
          "name": "stdout",
          "output_type": "stream",
          "text": [
            "f1_score_drop_na 0.5299145299145298\n"
          ]
        }
      ],
      "source": [
        "from sklearn.linear_model import LogisticRegression\n",
        "from sklearn.metrics import f1_score\n",
        "from sklearn.metrics import classification_report\n",
        "from sklearn.model_selection import train_test_split\n",
        "\n",
        "random_state = 9\n",
        "\n",
        "def build_model(df):\n",
        "  X, y = df.drop('survived', axis=1), df['survived']\n",
        "  X_train, X_test, y_train, y_test = train_test_split(X, y, test_size=0.2, random_state=random_state\n",
        "                                                      , stratify=y)\n",
        "  lr = LogisticRegression(random_state=random_state, max_iter=1000).fit(X_train, y_train)\n",
        "  y_pred = lr.predict(X_test)\n",
        "  f_1_score = f1_score(y_test, y_pred)\n",
        "  report = classification_report(y_test, y_pred, digits = 3)\n",
        "  return f_1_score, report\n",
        "\n",
        "cat_features = ['name', 'sex', 'embarked']\n",
        "non_cat_features = list(set(df_droped.columns).difference(set(cat_features)))\n",
        "score, report = build_model(df_droped[non_cat_features].dropna())\n",
        "print('f1_score_drop_na', score)"
      ]
    },
    {
      "cell_type": "markdown",
      "metadata": {
        "id": "UL6H4BxE3y-f"
      },
      "source": [
        "## Заполнение пропусков средним"
      ]
    },
    {
      "cell_type": "markdown",
      "metadata": {
        "id": "vD6NntW04OJF"
      },
      "source": [
        "Качество полученной модели оставляет желать лучшего. Имеет смысл попробовать заполнить пропуски. Из исходного набора данных удалите категориальные признаки, а пропуски заполните средним по столбцу. Далее аналогично: разделение, обучение, оценка.\n",
        "\n",
        "Вычислите <code>f1_score</code> модели на тестовых данных"
      ]
    },
    {
      "cell_type": "code",
      "execution_count": 47,
      "metadata": {
        "colab": {
          "base_uri": "https://localhost:8080/"
        },
        "id": "zMYFLiWZ4Gw-",
        "outputId": "ba431863-a401-4dfd-efb9-4ac1ff43e26e"
      },
      "outputs": [
        {
          "name": "stdout",
          "output_type": "stream",
          "text": [
            "f1_score_imputed_by_mean 0.37254901960784315\n"
          ]
        }
      ],
      "source": [
        "from sklearn.impute import SimpleImputer\n",
        "df_imputed_by_mean = df_droped[non_cat_features].fillna(df_droped[non_cat_features].mean()['age'])\n",
        "score, report = build_model(df_imputed_by_mean)\n",
        "print('f1_score_imputed_by_mean', score)"
      ]
    },
    {
      "cell_type": "markdown",
      "metadata": {
        "id": "dxuJDvb1_p_e"
      },
      "source": [
        "## Заполнение пропусков на основе обращения"
      ]
    },
    {
      "cell_type": "markdown",
      "metadata": {
        "id": "9ew5okxzKdLh"
      },
      "source": [
        "\n",
        "Очевидно, что заполнение пропусков в колонке <code>age</code> средним — не самая разумная идея. Возможно, стоит выполнить эту процедуру как-то более интеллектуально, например, с оглядкой на обращение к человеку.\n",
        "\n",
        "Можно заметить, что исходный датасет в столбце <code>name</code> содержит информацию о социальном статусе пассажира, а именно присутсвуют обращения <code>Mr., Mrs., Dr.</code> и т.д. На основе этой информации можно попробовать сделать предположение о возрасте пассажира.\n",
        "\n",
        "Верните в рассмотрение колонку <code>name</code>. Создайте отдельную колонку <code>honorific</code> и поместите туда значения обращений.\n",
        "\n",
        "Вычислите число уникальных обращений."
      ]
    },
    {
      "cell_type": "code",
      "execution_count": 48,
      "metadata": {
        "colab": {
          "base_uri": "https://localhost:8080/",
          "height": 143
        },
        "id": "fMbYRoa-DArO",
        "outputId": "be00eb05-ce95-4c3c-d409-078e17d1a46e"
      },
      "outputs": [
        {
          "data": {
            "text/html": [
              "<style type=\"text/css\">\n",
              "#T_428d2_row0_col0, #T_428d2_row0_col1, #T_428d2_row0_col3, #T_428d2_row0_col5, #T_428d2_row0_col6, #T_428d2_row0_col7, #T_428d2_row0_col10, #T_428d2_row0_col13, #T_428d2_row1_col2, #T_428d2_row1_col4, #T_428d2_row1_col8, #T_428d2_row1_col9, #T_428d2_row1_col11, #T_428d2_row1_col12 {\n",
              "  background-color: #fff7fb;\n",
              "  color: #000000;\n",
              "}\n",
              "#T_428d2_row0_col2, #T_428d2_row0_col4, #T_428d2_row0_col8, #T_428d2_row0_col9, #T_428d2_row0_col11, #T_428d2_row0_col12, #T_428d2_row1_col0, #T_428d2_row1_col1, #T_428d2_row1_col3, #T_428d2_row1_col5, #T_428d2_row1_col6, #T_428d2_row1_col7, #T_428d2_row1_col10, #T_428d2_row1_col13 {\n",
              "  background-color: #023858;\n",
              "  color: #f1f1f1;\n",
              "}\n",
              "</style>\n",
              "<table id=\"T_428d2\" class=\"dataframe\">\n",
              "  <thead>\n",
              "    <tr>\n",
              "      <th class=\"index_name level0\" >honorific</th>\n",
              "      <th id=\"T_428d2_level0_col0\" class=\"col_heading level0 col0\" >Capt</th>\n",
              "      <th id=\"T_428d2_level0_col1\" class=\"col_heading level0 col1\" >Col</th>\n",
              "      <th id=\"T_428d2_level0_col2\" class=\"col_heading level0 col2\" >Countess</th>\n",
              "      <th id=\"T_428d2_level0_col3\" class=\"col_heading level0 col3\" >Don</th>\n",
              "      <th id=\"T_428d2_level0_col4\" class=\"col_heading level0 col4\" >Dona</th>\n",
              "      <th id=\"T_428d2_level0_col5\" class=\"col_heading level0 col5\" >Dr</th>\n",
              "      <th id=\"T_428d2_level0_col6\" class=\"col_heading level0 col6\" >Major</th>\n",
              "      <th id=\"T_428d2_level0_col7\" class=\"col_heading level0 col7\" >Master</th>\n",
              "      <th id=\"T_428d2_level0_col8\" class=\"col_heading level0 col8\" >Miss</th>\n",
              "      <th id=\"T_428d2_level0_col9\" class=\"col_heading level0 col9\" >Mlle</th>\n",
              "      <th id=\"T_428d2_level0_col10\" class=\"col_heading level0 col10\" >Mr</th>\n",
              "      <th id=\"T_428d2_level0_col11\" class=\"col_heading level0 col11\" >Mrs</th>\n",
              "      <th id=\"T_428d2_level0_col12\" class=\"col_heading level0 col12\" >Ms</th>\n",
              "      <th id=\"T_428d2_level0_col13\" class=\"col_heading level0 col13\" >Rev</th>\n",
              "    </tr>\n",
              "    <tr>\n",
              "      <th class=\"index_name level0\" >sex</th>\n",
              "      <th class=\"blank col0\" >&nbsp;</th>\n",
              "      <th class=\"blank col1\" >&nbsp;</th>\n",
              "      <th class=\"blank col2\" >&nbsp;</th>\n",
              "      <th class=\"blank col3\" >&nbsp;</th>\n",
              "      <th class=\"blank col4\" >&nbsp;</th>\n",
              "      <th class=\"blank col5\" >&nbsp;</th>\n",
              "      <th class=\"blank col6\" >&nbsp;</th>\n",
              "      <th class=\"blank col7\" >&nbsp;</th>\n",
              "      <th class=\"blank col8\" >&nbsp;</th>\n",
              "      <th class=\"blank col9\" >&nbsp;</th>\n",
              "      <th class=\"blank col10\" >&nbsp;</th>\n",
              "      <th class=\"blank col11\" >&nbsp;</th>\n",
              "      <th class=\"blank col12\" >&nbsp;</th>\n",
              "      <th class=\"blank col13\" >&nbsp;</th>\n",
              "    </tr>\n",
              "  </thead>\n",
              "  <tbody>\n",
              "    <tr>\n",
              "      <th id=\"T_428d2_level0_row0\" class=\"row_heading level0 row0\" >female</th>\n",
              "      <td id=\"T_428d2_row0_col0\" class=\"data row0 col0\" >0</td>\n",
              "      <td id=\"T_428d2_row0_col1\" class=\"data row0 col1\" >0</td>\n",
              "      <td id=\"T_428d2_row0_col2\" class=\"data row0 col2\" >1</td>\n",
              "      <td id=\"T_428d2_row0_col3\" class=\"data row0 col3\" >0</td>\n",
              "      <td id=\"T_428d2_row0_col4\" class=\"data row0 col4\" >1</td>\n",
              "      <td id=\"T_428d2_row0_col5\" class=\"data row0 col5\" >0</td>\n",
              "      <td id=\"T_428d2_row0_col6\" class=\"data row0 col6\" >0</td>\n",
              "      <td id=\"T_428d2_row0_col7\" class=\"data row0 col7\" >0</td>\n",
              "      <td id=\"T_428d2_row0_col8\" class=\"data row0 col8\" >194</td>\n",
              "      <td id=\"T_428d2_row0_col9\" class=\"data row0 col9\" >2</td>\n",
              "      <td id=\"T_428d2_row0_col10\" class=\"data row0 col10\" >0</td>\n",
              "      <td id=\"T_428d2_row0_col11\" class=\"data row0 col11\" >145</td>\n",
              "      <td id=\"T_428d2_row0_col12\" class=\"data row0 col12\" >2</td>\n",
              "      <td id=\"T_428d2_row0_col13\" class=\"data row0 col13\" >0</td>\n",
              "    </tr>\n",
              "    <tr>\n",
              "      <th id=\"T_428d2_level0_row1\" class=\"row_heading level0 row1\" >male</th>\n",
              "      <td id=\"T_428d2_row1_col0\" class=\"data row1 col0\" >1</td>\n",
              "      <td id=\"T_428d2_row1_col1\" class=\"data row1 col1\" >3</td>\n",
              "      <td id=\"T_428d2_row1_col2\" class=\"data row1 col2\" >0</td>\n",
              "      <td id=\"T_428d2_row1_col3\" class=\"data row1 col3\" >1</td>\n",
              "      <td id=\"T_428d2_row1_col4\" class=\"data row1 col4\" >0</td>\n",
              "      <td id=\"T_428d2_row1_col5\" class=\"data row1 col5\" >6</td>\n",
              "      <td id=\"T_428d2_row1_col6\" class=\"data row1 col6\" >1</td>\n",
              "      <td id=\"T_428d2_row1_col7\" class=\"data row1 col7\" >46</td>\n",
              "      <td id=\"T_428d2_row1_col8\" class=\"data row1 col8\" >0</td>\n",
              "      <td id=\"T_428d2_row1_col9\" class=\"data row1 col9\" >0</td>\n",
              "      <td id=\"T_428d2_row1_col10\" class=\"data row1 col10\" >572</td>\n",
              "      <td id=\"T_428d2_row1_col11\" class=\"data row1 col11\" >0</td>\n",
              "      <td id=\"T_428d2_row1_col12\" class=\"data row1 col12\" >0</td>\n",
              "      <td id=\"T_428d2_row1_col13\" class=\"data row1 col13\" >6</td>\n",
              "    </tr>\n",
              "  </tbody>\n",
              "</table>\n"
            ],
            "text/plain": [
              "<pandas.io.formats.style.Styler at 0x7b27cc549cc0>"
            ]
          },
          "execution_count": 48,
          "metadata": {},
          "output_type": "execute_result"
        }
      ],
      "source": [
        "df_droped['honorific'] = list(df_droped['name'].str.extract('([A-Za-z]+)\\.')[0])\n",
        "pd.crosstab(df_droped['sex'], df_droped['honorific']).style.background_gradient()"
      ]
    },
    {
      "cell_type": "code",
      "execution_count": 49,
      "metadata": {
        "colab": {
          "base_uri": "https://localhost:8080/"
        },
        "id": "AdV2buIiWGA2",
        "outputId": "444690dd-f52d-43cb-e7a0-7d47bce5c801"
      },
      "outputs": [
        {
          "name": "stdout",
          "output_type": "stream",
          "text": [
            "Число уникальных honorific: 14\n"
          ]
        },
        {
          "data": {
            "text/plain": [
              "array(['Miss', 'Mrs', 'Mr', 'Master', 'Mlle', 'Rev', 'Ms', 'Col', 'Dona',\n",
              "       'Dr', 'Countess', 'Major', 'Don', 'Capt'], dtype=object)"
            ]
          },
          "execution_count": 49,
          "metadata": {},
          "output_type": "execute_result"
        }
      ],
      "source": [
        "print('Число уникальных honorific:', len(df_droped['honorific'].unique()))\n",
        "df_droped['honorific'].unique()"
      ]
    },
    {
      "cell_type": "markdown",
      "metadata": {
        "id": "6HNMeGu9GJWN"
      },
      "source": [
        "Скорее всего имеет смысл сократить число обращений, добавив малочисленные группы к более многочисленным, так как принципиальной разницы между, например, <code>Don</code> и <code>Mr</code>, видимо, нет. Отметим, что <code>Master</code> — это прежнее обращение к ребенку, с этим обращением будем работать отдельно.\n",
        "\n",
        "\n",
        "\n",
        "\n",
        "Выполните следующие замены:\n",
        "\n",
        "<code>Mr</code> $\\leftarrow$ <code>['Rev', 'Col', 'Dr', 'Major', 'Don', 'Capt']</code>\n",
        "\n",
        "<code>Mrs</code> $\\leftarrow$ <code> ['Dona', 'Countess']</code>\n",
        "\n",
        "<code>Miss</code> $\\leftarrow$ <code> ['Mlle', 'Ms']</code>"
      ]
    },
    {
      "cell_type": "code",
      "execution_count": 60,
      "metadata": {
        "colab": {
          "base_uri": "https://localhost:8080/",
          "height": 143
        },
        "id": "jiQBH3_8G0SF",
        "outputId": "9fd0f854-efa7-4378-aa40-2bfa9698d7f4"
      },
      "outputs": [
        {
          "data": {
            "text/html": [
              "<style type=\"text/css\">\n",
              "#T_ebadc_row0_col0, #T_ebadc_row0_col2, #T_ebadc_row1_col1, #T_ebadc_row1_col3 {\n",
              "  background-color: #fff7fb;\n",
              "  color: #000000;\n",
              "}\n",
              "#T_ebadc_row0_col1, #T_ebadc_row0_col3, #T_ebadc_row1_col0, #T_ebadc_row1_col2 {\n",
              "  background-color: #023858;\n",
              "  color: #f1f1f1;\n",
              "}\n",
              "</style>\n",
              "<table id=\"T_ebadc\" class=\"dataframe\">\n",
              "  <thead>\n",
              "    <tr>\n",
              "      <th class=\"index_name level0\" >honorific</th>\n",
              "      <th id=\"T_ebadc_level0_col0\" class=\"col_heading level0 col0\" >Master</th>\n",
              "      <th id=\"T_ebadc_level0_col1\" class=\"col_heading level0 col1\" >Miss</th>\n",
              "      <th id=\"T_ebadc_level0_col2\" class=\"col_heading level0 col2\" >Mr</th>\n",
              "      <th id=\"T_ebadc_level0_col3\" class=\"col_heading level0 col3\" >Mrs</th>\n",
              "    </tr>\n",
              "    <tr>\n",
              "      <th class=\"index_name level0\" >sex</th>\n",
              "      <th class=\"blank col0\" >&nbsp;</th>\n",
              "      <th class=\"blank col1\" >&nbsp;</th>\n",
              "      <th class=\"blank col2\" >&nbsp;</th>\n",
              "      <th class=\"blank col3\" >&nbsp;</th>\n",
              "    </tr>\n",
              "  </thead>\n",
              "  <tbody>\n",
              "    <tr>\n",
              "      <th id=\"T_ebadc_level0_row0\" class=\"row_heading level0 row0\" >female</th>\n",
              "      <td id=\"T_ebadc_row0_col0\" class=\"data row0 col0\" >0</td>\n",
              "      <td id=\"T_ebadc_row0_col1\" class=\"data row0 col1\" >198</td>\n",
              "      <td id=\"T_ebadc_row0_col2\" class=\"data row0 col2\" >0</td>\n",
              "      <td id=\"T_ebadc_row0_col3\" class=\"data row0 col3\" >147</td>\n",
              "    </tr>\n",
              "    <tr>\n",
              "      <th id=\"T_ebadc_level0_row1\" class=\"row_heading level0 row1\" >male</th>\n",
              "      <td id=\"T_ebadc_row1_col0\" class=\"data row1 col0\" >46</td>\n",
              "      <td id=\"T_ebadc_row1_col1\" class=\"data row1 col1\" >0</td>\n",
              "      <td id=\"T_ebadc_row1_col2\" class=\"data row1 col2\" >590</td>\n",
              "      <td id=\"T_ebadc_row1_col3\" class=\"data row1 col3\" >0</td>\n",
              "    </tr>\n",
              "  </tbody>\n",
              "</table>\n"
            ],
            "text/plain": [
              "<pandas.io.formats.style.Styler at 0x7b27cc548df0>"
            ]
          },
          "execution_count": 60,
          "metadata": {},
          "output_type": "execute_result"
        }
      ],
      "source": [
        "df_droped['honorific'].\\\n",
        "replace(['Mlle', 'Rev', 'Ms', 'Col', 'Dona', 'Dr', 'Countess', 'Major', 'Don', 'Capt'],\\\n",
        "        ['Miss', 'Mr', 'Miss', 'Mr', 'Mrs', 'Mr', 'Mrs', 'Mr', 'Mr', 'Mr'], inplace=True)\n",
        "pd.crosstab(df_droped['sex'], df_droped['honorific']).style.background_gradient()"
      ]
    },
    {
      "cell_type": "markdown",
      "metadata": {
        "id": "qh-KpfttKxYD"
      },
      "source": [
        "Вычислите долю строк со значением <code>Master</code> относительно числа всех мужчин"
      ]
    },
    {
      "cell_type": "code",
      "execution_count": 61,
      "metadata": {
        "colab": {
          "base_uri": "https://localhost:8080/"
        },
        "id": "2g2fHrAGK_CA",
        "outputId": "6386ff86-30f2-46d6-e1bb-3d1b9c2954ec"
      },
      "outputs": [
        {
          "name": "stdout",
          "output_type": "stream",
          "text": [
            "Master_rate 0.07232704402515723\n"
          ]
        }
      ],
      "source": [
        "print('Master_rate', len(df_droped[df_droped['honorific'] == 'Master']) / len(df_droped[df_droped['sex'] == 'male']))"
      ]
    },
    {
      "cell_type": "markdown",
      "metadata": {
        "id": "XD7hs0k7L77K"
      },
      "source": [
        "Вычислите средний возраст категории, указанной в вашем индивидуальном задании"
      ]
    },
    {
      "cell_type": "code",
      "execution_count": 62,
      "metadata": {
        "colab": {
          "base_uri": "https://localhost:8080/"
        },
        "id": "stKBPTCQMGlf",
        "outputId": "987d6cc2-d956-4d3c-ae71-26363978fa77"
      },
      "outputs": [
        {
          "data": {
            "text/plain": [
              "{'Master': 5.128205128205129,\n",
              " 'Miss': 22.000761538956446,\n",
              " 'Mr': 32.90043763676149,\n",
              " 'Mrs': 36.98425196850394}"
            ]
          },
          "execution_count": 62,
          "metadata": {},
          "output_type": "execute_result"
        }
      ],
      "source": [
        "dict(df_droped.groupby('honorific')['age'].mean())"
      ]
    },
    {
      "cell_type": "markdown",
      "metadata": {
        "id": "cQ4Z0tKNLk_B"
      },
      "source": [
        "Заполните пропуски в колонке <code>age</code> средним, соответствующим среднему категории <code>honorific</code>.\n",
        "\n",
        "Избавьтесь от нечисловых признаков. Далее аналогично: разделение, обучение, оценка.\n",
        "\n",
        "Вычислите <code>f1_score</code> модели на тестовых данных"
      ]
    },
    {
      "cell_type": "code",
      "execution_count": 54,
      "metadata": {
        "colab": {
          "base_uri": "https://localhost:8080/"
        },
        "id": "B5c_i_6HN3aA",
        "outputId": "36ccb21b-e552-41f8-eabc-8f387cabbc7c"
      },
      "outputs": [
        {
          "name": "stdout",
          "output_type": "stream",
          "text": [
            "pclass       0\n",
            "survived     0\n",
            "name         0\n",
            "sex          0\n",
            "age          0\n",
            "fare         0\n",
            "embarked     0\n",
            "fam_size     0\n",
            "honorific    0\n",
            "dtype: int64\n"
          ]
        }
      ],
      "source": [
        "df_droped.loc[(df_droped['age'].isnull()) & (df_droped['honorific'] == 'Master'), 'age'] = dict(df_droped.groupby('honorific')['age'].mean())['Master']\n",
        "df_droped.loc[(df_droped['age'].isnull()) & (df_droped['honorific'] == 'Miss'), 'age'] = dict(df_droped.groupby('honorific')['age'].mean())['Miss']\n",
        "df_droped.loc[(df_droped['age'].isnull()) & (df_droped['honorific'] == 'Mr'), 'age'] = dict(df_droped.groupby('honorific')['age'].mean())['Mr']\n",
        "df_droped.loc[(df_droped['age'].isnull()) & (df_droped['honorific'] == 'Mrs'), 'age'] = dict(df_droped.groupby('honorific')['age'].mean())['Mrs']\n",
        "print(df_droped.isnull().sum())"
      ]
    },
    {
      "cell_type": "code",
      "execution_count": 55,
      "metadata": {
        "colab": {
          "base_uri": "https://localhost:8080/"
        },
        "id": "SMNykTZsZ9Tx",
        "outputId": "7e296c02-c0f3-4799-9abe-fccaf5c89e06"
      },
      "outputs": [
        {
          "name": "stdout",
          "output_type": "stream",
          "text": [
            "f1_score_imputed_by_honorific 0.4\n"
          ]
        }
      ],
      "source": [
        "df_imputed_by_honorific = df_droped.drop(columns=cat_features+['honorific'])\n",
        "score, report = build_model(df_imputed_by_honorific)\n",
        "print('f1_score_imputed_by_honorific', score)"
      ]
    },
    {
      "cell_type": "markdown",
      "metadata": {
        "id": "YGCBn1fiSbjG"
      },
      "source": [
        "# Модель с использование категориальных признаков"
      ]
    },
    {
      "cell_type": "markdown",
      "metadata": {
        "id": "BlILajPNTMgL"
      },
      "source": [
        "В исходном наборе данных заполните пропуски колонки <code>age</code> значениями на основе обращений (как в предыдущем пункте).\n",
        "\n",
        "Не используйте признаки <code>name</code> и <code>honorific</code>. Они свою функцию выполнили.\n",
        "\n",
        "Произведите <code>one-hot</code> кодировние нечисловых признаков, например, с помощью <code>pd.get_dummies(drop_first=True)</code>. Далее по знакомой схеме: разделение, обучение, оценка.\n",
        "\n",
        "Вычислите <code>f1_score</code> модели на тестовых данных"
      ]
    },
    {
      "cell_type": "code",
      "execution_count": 56,
      "metadata": {
        "colab": {
          "base_uri": "https://localhost:8080/"
        },
        "id": "AiRm3GIdUsVt",
        "outputId": "dd9eaedf-2faf-445c-8139-dccc22af8633"
      },
      "outputs": [
        {
          "name": "stdout",
          "output_type": "stream",
          "text": [
            "f1_score_droped_one_hot 0.6666666666666667\n"
          ]
        }
      ],
      "source": [
        "df_droped_one_hot = df_droped.drop(columns=['name', 'honorific'])\n",
        "df_droped_one_hot = pd.get_dummies(df_droped_one_hot, drop_first=True)\n",
        "score, report = build_model(df_droped_one_hot)\n",
        "print('f1_score_droped_one_hot', score)"
      ]
    }
  ],
  "metadata": {
    "colab": {
      "provenance": []
    },
    "kernelspec": {
      "display_name": "Python 3",
      "name": "python3"
    },
    "language_info": {
      "name": "python"
    }
  },
  "nbformat": 4,
  "nbformat_minor": 0
}
